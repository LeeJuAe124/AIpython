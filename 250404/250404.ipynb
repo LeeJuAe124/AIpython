{
  "nbformat": 4,
  "nbformat_minor": 0,
  "metadata": {
    "colab": {
      "provenance": [],
      "authorship_tag": "ABX9TyODkibj0SiEoLdaZSvUt+WH",
      "include_colab_link": true
    },
    "kernelspec": {
      "name": "python3",
      "display_name": "Python 3"
    },
    "language_info": {
      "name": "python"
    }
  },
  "cells": [
    {
      "cell_type": "markdown",
      "metadata": {
        "id": "view-in-github",
        "colab_type": "text"
      },
      "source": [
        "<a href=\"https://colab.research.google.com/github/LeeJuAe124/AIpython/blob/main/250404.ipynb\" target=\"_parent\"><img src=\"https://colab.research.google.com/assets/colab-badge.svg\" alt=\"Open In Colab\"/></a>"
      ]
    },
    {
      "cell_type": "code",
      "execution_count": 5,
      "metadata": {
        "colab": {
          "base_uri": "https://localhost:8080/"
        },
        "id": "oX_0b58nhZRe",
        "outputId": "3553eb7e-cf72-4d6e-e110-ce2bc3807327"
      },
      "outputs": [
        {
          "output_type": "stream",
          "name": "stdout",
          "text": [
            "하나\n"
          ]
        }
      ],
      "source": [
        "import random\n",
        "\n",
        "my_list = ['하나', '둘', '셋']\n",
        "\n",
        "pick = random.choice(my_list)\n",
        "print(pick)"
      ]
    },
    {
      "cell_type": "code",
      "source": [
        "list = []\n",
        "\n",
        "num_list = [1,2,3,4,5]\n",
        "fruits_list = [\"사과\",\"바나나\", \"딸기\"]\n",
        "mix_list = [1,\"사과\", True, 3,14]\n",
        "\n",
        "print(fruits_list)"
      ],
      "metadata": {
        "colab": {
          "base_uri": "https://localhost:8080/"
        },
        "id": "EzotZ6SpjjaY",
        "outputId": "027d93e4-a19b-460e-8d2d-402b0862ee50"
      },
      "execution_count": 7,
      "outputs": [
        {
          "output_type": "stream",
          "name": "stdout",
          "text": [
            "['사과', '바나나', '딸기']\n"
          ]
        }
      ]
    },
    {
      "cell_type": "code",
      "source": [
        "import random\n",
        "\n",
        "num = random.sample(range(1,45), 6)\n",
        "print(num)"
      ],
      "metadata": {
        "colab": {
          "base_uri": "https://localhost:8080/"
        },
        "id": "Fh-0XuxAj63g",
        "outputId": "5992ec4a-ca80-4b12-c076-48fb1a9beaf7"
      },
      "execution_count": 10,
      "outputs": [
        {
          "output_type": "stream",
          "name": "stdout",
          "text": [
            "[18, 41, 4, 6, 19, 37]\n"
          ]
        }
      ]
    },
    {
      "cell_type": "code",
      "source": [
        "import random\n",
        "my_list = []\n",
        "#빈 리스트 생성\n",
        "\n",
        "for i in range(1,7):\n",
        "  num = random.randint(1,45)\n",
        "  my_list.append(num)\n",
        "\n",
        "print(my_list)"
      ],
      "metadata": {
        "colab": {
          "base_uri": "https://localhost:8080/"
        },
        "id": "oe5Szrw_lQmA",
        "outputId": "8d8248d4-321e-431c-cd36-ea26ab58cbc2"
      },
      "execution_count": 12,
      "outputs": [
        {
          "output_type": "stream",
          "name": "stdout",
          "text": [
            "[40, 26, 13, 10, 20, 4]\n"
          ]
        }
      ]
    },
    {
      "cell_type": "code",
      "source": [
        "score = [85, 92, 78, 90, 87]\n",
        "average = sum(score)/len(score)\n",
        "\n",
        "print(average)"
      ],
      "metadata": {
        "colab": {
          "base_uri": "https://localhost:8080/"
        },
        "id": "zYTTiDv6uBPG",
        "outputId": "15f61ed4-eecf-454e-c22d-f25ec9ccc14f"
      },
      "execution_count": 20,
      "outputs": [
        {
          "output_type": "stream",
          "name": "stdout",
          "text": [
            "86.4\n"
          ]
        }
      ]
    },
    {
      "cell_type": "code",
      "source": [
        "#변수 in 리스트 -> 리스트 값을 변수에\n",
        "#sum, len 없이 평균 구하기\n",
        "\n",
        "score = [85, 92, 78, 90, 87]\n",
        "total = 0\n",
        "count = 0\n",
        "\n",
        "for num in score:\n",
        "  total += num\n",
        "  count += 1\n",
        "\n",
        "average = total / count\n",
        "print(average)"
      ],
      "metadata": {
        "colab": {
          "base_uri": "https://localhost:8080/"
        },
        "id": "m63rjZYhud2L",
        "outputId": "77f6cc6d-b1f3-4473-edf9-d32f7cc254b9"
      },
      "execution_count": 21,
      "outputs": [
        {
          "output_type": "stream",
          "name": "stdout",
          "text": [
            "86.4\n"
          ]
        }
      ]
    },
    {
      "cell_type": "code",
      "source": [
        "학생들 = [(\"철수\", 85), (\"영희\", 92), (\"민수\", 65), (\"지영\", 78)]\n",
        "합격자 = []\n",
        "\n",
        "for 학생, 점수 in 학생들:\n",
        "    if 점수 >= 70:\n",
        "        합격자.append(학생)\n",
        "\n",
        "print(합격자)"
      ],
      "metadata": {
        "colab": {
          "base_uri": "https://localhost:8080/"
        },
        "id": "N9emoxOKvvZf",
        "outputId": "a6976f9b-1def-4cf4-c4dd-c17b1ca05cbb"
      },
      "execution_count": 31,
      "outputs": [
        {
          "output_type": "stream",
          "name": "stdout",
          "text": [
            "['철수', '영희', '지영']\n"
          ]
        }
      ]
    },
    {
      "cell_type": "code",
      "source": [
        "fruits = [\"사과\", \"바나나\", \"딸기\", \"포도\"]\n",
        "print(f\"과일 리스트: {fruits}\")\n",
        "\n",
        "first_fruit = fruits[0] # 첫 번째 요소 (인덱스 0)에 접근\n",
        "print(f\"첫 번째 과일: {first_fruit}\")\n",
        "\n",
        "last_fruit = fruits[-1] # 마지막 요소 (인덱스 -1)에 접근\n",
        "print(f\"마지막 과일: {last_fruit}\")"
      ],
      "metadata": {
        "colab": {
          "base_uri": "https://localhost:8080/"
        },
        "id": "4oI1PHvQxfKp",
        "outputId": "f020ce3f-b598-4918-e170-2f004b530091"
      },
      "execution_count": 32,
      "outputs": [
        {
          "output_type": "stream",
          "name": "stdout",
          "text": [
            "과일 리스트: ['사과', '바나나', '딸기', '포도']\n",
            "첫 번째 과일: 사과\n",
            "마지막 과일: 포도\n"
          ]
        }
      ]
    },
    {
      "cell_type": "code",
      "source": [
        "fruits = [\"사과\", \"바나나\", \"딸기\", \"포도\"]\n",
        "print(f\"원래 과일 리스트: {fruits}\")\n",
        "\n",
        "fruits.append(\"오렌지\")\n",
        "print(f\"요소 추가 후 리스트: {fruits}\")\n",
        "\n",
        "fruits.remove(\"바나나\")\n",
        "print(f\"요소 삭제 후 리스트: {fruits}\")"
      ],
      "metadata": {
        "colab": {
          "base_uri": "https://localhost:8080/"
        },
        "id": "D03GhB9wxnsJ",
        "outputId": "2e10011d-4a94-4e6b-9a3c-1b0287ceab79"
      },
      "execution_count": 33,
      "outputs": [
        {
          "output_type": "stream",
          "name": "stdout",
          "text": [
            "원래 과일 리스트: ['사과', '바나나', '딸기', '포도']\n",
            "요소 추가 후 리스트: ['사과', '바나나', '딸기', '포도', '오렌지']\n",
            "요소 삭제 후 리스트: ['사과', '딸기', '포도', '오렌지']\n"
          ]
        }
      ]
    },
    {
      "cell_type": "code",
      "source": [
        "numbers = [1, 5, 12, 8, 21]\n",
        "print(\"숫자 리스트의 요소: \")\n",
        "\n",
        "for num in numbers:\n",
        "  print(num, end=\" \")"
      ],
      "metadata": {
        "colab": {
          "base_uri": "https://localhost:8080/"
        },
        "id": "aXBSRBQ8xxVG",
        "outputId": "b6bf11df-e60f-431c-e401-f720dab30840"
      },
      "execution_count": 39,
      "outputs": [
        {
          "output_type": "stream",
          "name": "stdout",
          "text": [
            "숫자 리스트의 요소: \n",
            "1 5 12 8 21 "
          ]
        }
      ]
    },
    {
      "cell_type": "code",
      "source": [
        "colors = [\"빨강\", \"초록\", \"파랑\"]\n",
        "print(f\"원래 색깔 리스트: {colors}\")\n",
        "\n",
        "colors[1] = \"노랑\" # 인덱스 1의 \"초록\"을 \"노랑\"으로 변경\n",
        "print(f\"요소 변경 후 색깔 리스트: {colors}\")"
      ],
      "metadata": {
        "colab": {
          "base_uri": "https://localhost:8080/"
        },
        "id": "SmBkw2ZCyLkb",
        "outputId": "f480b8f8-4ec0-495d-e764-24d24da1e536"
      },
      "execution_count": 40,
      "outputs": [
        {
          "output_type": "stream",
          "name": "stdout",
          "text": [
            "원래 색깔 리스트: ['빨강', '초록', '파랑']\n",
            "요소 변경 후 색깔 리스트: ['빨강', '노랑', '파랑']\n"
          ]
        }
      ]
    },
    {
      "cell_type": "code",
      "source": [
        "# 문제 5: 두 개의 리스트 합치기\n",
        "list1 = [1, 2, 3]\n",
        "list2 = [4, 5, 6]\n",
        "print(f\"첫 번째 리스트: {list1}\")\n",
        "print(f\"두 번째 리스트: {list2}\")\n",
        "\n",
        "# 방법 1: + 연산자 사용\n",
        "combined_list_plus = list1 + list2\n",
        "print(f\"두 리스트 합치기 (+) 결과: {combined_list_plus}\")\n",
        "\n",
        "# 방법 2: extend() 메서드 사용\n",
        "list1.extend(list2)\n",
        "print(f\"첫 번째 리스트에 두 번째 리스트 확장 (extend()): {list1}\")"
      ],
      "metadata": {
        "colab": {
          "base_uri": "https://localhost:8080/"
        },
        "id": "pYbismsnyWf4",
        "outputId": "ef2eff3b-ba5a-415e-8dba-1cfef10f7cda"
      },
      "execution_count": 41,
      "outputs": [
        {
          "output_type": "stream",
          "name": "stdout",
          "text": [
            "첫 번째 리스트: [1, 2, 3]\n",
            "두 번째 리스트: [4, 5, 6]\n",
            "두 리스트 합치기 (+) 결과: [1, 2, 3, 4, 5, 6]\n",
            "첫 번째 리스트에 두 번째 리스트 확장 (extend()): [1, 2, 3, 4, 5, 6]\n"
          ]
        }
      ]
    }
  ]
}
