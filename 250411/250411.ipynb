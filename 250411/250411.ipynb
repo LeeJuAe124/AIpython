{
 "cells": [
  {
   "cell_type": "code",
   "execution_count": 4,
   "metadata": {},
   "outputs": [
    {
     "name": "stdout",
     "output_type": "stream",
     "text": [
      "abc"
     ]
    }
   ],
   "source": [
    "#인덱스로 문자에 접근\n",
    "s = 'abc'\n",
    "for i in range(len(s)):\n",
    "    print(s[i], end='')"
   ]
  },
  {
   "cell_type": "code",
   "execution_count": 17,
   "metadata": {},
   "outputs": [
    {
     "name": "stdout",
     "output_type": "stream",
     "text": [
      "abc"
     ]
    }
   ],
   "source": [
    "#인덱스없이 문자에 접근\n",
    "s = 'abc'\n",
    "for a in s:\n",
    "    print(a, end='')"
   ]
  },
  {
   "cell_type": "code",
   "execution_count": 18,
   "metadata": {},
   "outputs": [
    {
     "name": "stdout",
     "output_type": "stream",
     "text": [
      "여자입니다.\n"
     ]
    }
   ],
   "source": [
    "#주민등록번호로 남녀구분하기\n",
    "num = input(\"주민등록번호를 입력하세요. (예: 123456-1234567) : \")\n",
    "#하이픈이 들어가기에 int 변환하지 않음\n",
    "\n",
    "gender = num[7]\n",
    "#하이픈 기준 8번째 자리\n",
    "\n",
    "if gender in ['1','3']:\n",
    "    print(\"남자입니다.\")\n",
    "elif gender in ['2','4']:\n",
    "    print(\"여자입니다.\")\n",
    "else:\n",
    "    print(\"잘못된 주민등록번호입니다.\")\n"
   ]
  },
  {
   "cell_type": "code",
   "execution_count": 16,
   "metadata": {},
   "outputs": [
    {
     "name": "stdout",
     "output_type": "stream",
     "text": [
      "432"
     ]
    }
   ],
   "source": [
    "#문자열 역순 출력\n",
    "s = input('문자열: ')\n",
    "for i in range(len(s)-1, -1, -1):\n",
    "    print(s[i], end='')"
   ]
  },
  {
   "cell_type": "code",
   "execution_count": 21,
   "metadata": {},
   "outputs": [
    {
     "name": "stdout",
     "output_type": "stream",
     "text": [
      "회문입니다.\n"
     ]
    }
   ],
   "source": [
    "#회문 판별하기\n",
    "s1 = input('문자열: ')\n",
    "s2 = ''\n",
    "\n",
    "for i in range(len(s1)-1, -1, -1):\n",
    "    s2 += s1[i]\n",
    "\n",
    "if s1 == s2:\n",
    "    print('회문입니다.')\n",
    "else:\n",
    "    print('회문이 아닙니다.')"
   ]
  },
  {
   "cell_type": "code",
   "execution_count": 28,
   "metadata": {},
   "outputs": [
    {
     "name": "stdout",
     "output_type": "stream",
     "text": [
      "hello\n"
     ]
    }
   ],
   "source": [
    "#대소문자 변환하기\n",
    "lower_list = []\n",
    "\n",
    "while True:\n",
    "    s = input('영단어 또는 exit: ')\n",
    "    if s == 'exit':\n",
    "        break\n",
    "    lower_list.append(s.lower())\n",
    "\n",
    "for a in lower_list:\n",
    "    print(a)"
   ]
  },
  {
   "cell_type": "code",
   "execution_count": 39,
   "metadata": {},
   "outputs": [
    {
     "name": "stdout",
     "output_type": "stream",
     "text": [
      "희망넘치는 대한민국\n",
      "포함\n"
     ]
    }
   ],
   "source": [
    "#문자열 찾기\n",
    "s = input('문자열: ')\n",
    "if s.find('희망') != -1:\n",
    "    print(f\"{s}\\n포함\")\n",
    "else:\n",
    "    print('미포함')"
   ]
  },
  {
   "cell_type": "code",
   "execution_count": 52,
   "metadata": {},
   "outputs": [
    {
     "name": "stdout",
     "output_type": "stream",
     "text": [
      "몸무게: 54kg\n",
      "54\n"
     ]
    }
   ],
   "source": [
    "#공백 제거와 문자열 변경하기\n",
    "s = input('몸무게: ')\n",
    "print(f\"몸무게: {s}\")\n",
    "\n",
    "if s.find('kg')!=-1:\n",
    "    s = s.rstrip('kg')\n",
    "print(s)"
   ]
  },
  {
   "cell_type": "code",
   "execution_count": 46,
   "metadata": {},
   "outputs": [
    {
     "name": "stdout",
     "output_type": "stream",
     "text": [
      "['부산시', '금정구']\n",
      "부산시, 금정구\n"
     ]
    }
   ],
   "source": [
    "#문자열 분리와 결함하기\n",
    "#문자열을 분리하기\n",
    "s = '부산시 금정구'\n",
    "\n",
    "print(s.split(' '))\n",
    "\n",
    "#문자열을 결합하기\n",
    "s = '부산시, 금정구'\n",
    "\n",
    "print(''.join(s))"
   ]
  },
  {
   "cell_type": "code",
   "execution_count": 61,
   "metadata": {},
   "outputs": [
    {
     "name": "stdout",
     "output_type": "stream",
     "text": [
      "sdkjflskjl\n",
      "False\n",
      "234234\n",
      "False\n",
      "skdlfskjl234\n",
      "True\n"
     ]
    }
   ],
   "source": [
    "#예제\n",
    "while True:\n",
    "    pw = input(\"비밀번호: \")\n",
    "    print(pw)\n",
    "\n",
    "    if pw.isalpha() or pw.isdigit():\n",
    "        print(\"False\")\n",
    "    else:\n",
    "        print(\"True\")\n",
    "        break"
   ]
  },
  {
   "cell_type": "code",
   "execution_count": 62,
   "metadata": {},
   "outputs": [
    {
     "name": "stdout",
     "output_type": "stream",
     "text": [
      "5자 이상 입력하세요.\n",
      "5자 이상 입력하세요.\n",
      "아이디: sdfff23\n"
     ]
    }
   ],
   "source": [
    "#문자열 구성 파악하기\n",
    "while True:\n",
    "    id = input(\"아이디: \")\n",
    "    if len(id) <5:\n",
    "        print(\"5자 이상 입력하세요.\")\n",
    "    elif id.isalnum()!=True:\n",
    "        print(\"영문자와 숫자만 입력하세요.\")\n",
    "    else:\n",
    "        break\n",
    "print((f\"아이디: {id}\"))"
   ]
  },
  {
   "cell_type": "code",
   "execution_count": null,
   "metadata": {},
   "outputs": [],
   "source": [
    "#딕셔너리(중괄호{})\n",
    "#빈 딕셔너리 만들기\n",
    "빈_딕셔너리 = {}\n",
    "또다른_딕셔너리 = dict()\n",
    "\n",
    "#학생 정보 딕셔너리 만들기\n",
    "학생 = {\n",
    "    '이름': '김철수',\n",
    "    '학번': 20\n",
    "    '학과': '컴퓨터공학',\n",
    "    '학년': 3.5\n",
    "}\n",
    "\n",
    "#dict() 함수로 딕셔너리 만들기\n",
    "또다른_학생 = dict(이름='이영희', 나이=22, 학과='경영학', 학년=4)"
   ]
  },
  {
   "cell_type": "code",
   "execution_count": 63,
   "metadata": {},
   "outputs": [
    {
     "name": "stdout",
     "output_type": "stream",
     "text": [
      "{'나는': 2, '파이썬을': 1, '공부한다': 1, '파이썬은': 1, '재미있다': 1, '코딩을': 1, '좋아한다': 1}\n"
     ]
    }
   ],
   "source": [
    "#딕셔너리 활용 예제\n",
    "문장 = \"나는 파이썬을 공부한다 파이썬은 재미있다 나는 코딩을 좋아한다\"\n",
    "단어들 = 문장.split()\n",
    "빈도수 = {}\n",
    "\n",
    "for 단어 in 단어들:\n",
    "    if 단어 in 빈도수:\n",
    "        빈도수[단어] += 1\n",
    "    else:\n",
    "        빈도수[단어] = 1\n",
    "\n",
    "print(빈도수)"
   ]
  }
 ],
 "metadata": {
  "kernelspec": {
   "display_name": "Python 3",
   "language": "python",
   "name": "python3"
  },
  "language_info": {
   "codemirror_mode": {
    "name": "ipython",
    "version": 3
   },
   "file_extension": ".py",
   "mimetype": "text/x-python",
   "name": "python",
   "nbconvert_exporter": "python",
   "pygments_lexer": "ipython3",
   "version": "3.13.0"
  }
 },
 "nbformat": 4,
 "nbformat_minor": 2
}
