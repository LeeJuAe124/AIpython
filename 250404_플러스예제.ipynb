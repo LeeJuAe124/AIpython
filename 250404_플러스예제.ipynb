{
  "nbformat": 4,
  "nbformat_minor": 0,
  "metadata": {
    "colab": {
      "provenance": [],
      "authorship_tag": "ABX9TyPACVwXoCQo0BqWEoQLUDwQ",
      "include_colab_link": true
    },
    "kernelspec": {
      "name": "python3",
      "display_name": "Python 3"
    },
    "language_info": {
      "name": "python"
    }
  },
  "cells": [
    {
      "cell_type": "markdown",
      "metadata": {
        "id": "view-in-github",
        "colab_type": "text"
      },
      "source": [
        "<a href=\"https://colab.research.google.com/github/LeeJuAe124/AIpython/blob/main/250404_%ED%94%8C%EB%9F%AC%EC%8A%A4%EC%98%88%EC%A0%9C.ipynb\" target=\"_parent\"><img src=\"https://colab.research.google.com/assets/colab-badge.svg\" alt=\"Open In Colab\"/></a>"
      ]
    },
    {
      "cell_type": "code",
      "source": [
        "#섭씨 온도를 화씨 온도로 변환하기\n",
        "celsius = int(input('섭씨온도: '))\n",
        "print('화씨온도', celsius*9/5+32)"
      ],
      "metadata": {
        "colab": {
          "base_uri": "https://localhost:8080/"
        },
        "id": "40zQUj2OYL42",
        "outputId": "322daa4f-7a7e-4f6c-c95d-6bb14f9a3cfb"
      },
      "execution_count": 8,
      "outputs": [
        {
          "output_type": "stream",
          "name": "stdout",
          "text": [
            "섭씨온도: 25\n",
            "화씨온도 77.0\n"
          ]
        }
      ]
    },
    {
      "cell_type": "code",
      "source": [
        "#화씨 온도를 섭씨 온도로 변환하기\n",
        "fahrenheit = int(input('화씨온도: '))\n",
        "print('섭씨온도', (fahrenheit-32)*5/9)"
      ],
      "metadata": {
        "colab": {
          "base_uri": "https://localhost:8080/"
        },
        "id": "muwYSQ2PZPbx",
        "outputId": "bbfe276a-4c04-4f07-f0c8-bcfd69338fbb"
      },
      "execution_count": 9,
      "outputs": [
        {
          "output_type": "stream",
          "name": "stdout",
          "text": [
            "화씨온도: 77\n",
            "섭씨온도 25.0\n"
          ]
        }
      ]
    },
    {
      "cell_type": "code",
      "source": [
        "#온도 변환기\n",
        "kind = input('온도 종류(섭씨 또는 화씨): ')\n",
        "temp = int(input(kind+ '온도: '))\n",
        "\n",
        "if kind == '섭씨':\n",
        "  print(f'화씨 온도 {temp*9/5+32}')\n",
        "elif kind == '화씨':\n",
        "  print(f'섭씨 온도 {(temp-32)*5/9}')"
      ],
      "metadata": {
        "colab": {
          "base_uri": "https://localhost:8080/"
        },
        "id": "WS73pvy1ZexA",
        "outputId": "779a05bd-0276-4cb2-b653-f96423d7c0d9"
      },
      "execution_count": 10,
      "outputs": [
        {
          "output_type": "stream",
          "name": "stdout",
          "text": [
            "온도 종류(섭씨 또는 화씨): 섭씨\n",
            "섭씨온도: 22\n",
            "화씨 온도 71.6\n"
          ]
        }
      ]
    },
    {
      "cell_type": "code",
      "source": [
        "#온도 변환기, 소수점 2자리까지 표기하도록\n",
        "kind = input('온도 종류(섭씨 또는 화씨): ')\n",
        "temp = int(input(kind+ '온도: '))\n",
        "\n",
        "if kind == '섭씨':\n",
        "  print(f'화씨 온도 {temp*9/5+32: .2f}')\n",
        "elif kind == '화씨':\n",
        "  print(f'섭씨 온도 {(temp-32)*5/9: .2f}')"
      ],
      "metadata": {
        "colab": {
          "base_uri": "https://localhost:8080/"
        },
        "id": "rFLqrlI7aiH7",
        "outputId": "65ec5f8b-29f8-4f20-8290-1ab3b50af094"
      },
      "execution_count": 11,
      "outputs": [
        {
          "output_type": "stream",
          "name": "stdout",
          "text": [
            "온도 종류(섭씨 또는 화씨): 섭씨\n",
            "섭씨온도: 22\n",
            "화씨 온도  71.60\n"
          ]
        }
      ]
    },
    {
      "cell_type": "code",
      "source": [
        "#원주율 표기\n",
        "pi = 3.141592\n",
        "\n",
        "print(\"원주율: %.2f\" % pi)\n",
        "print(\"원주율: %10.2f\" % pi)\n",
        "print(\"원주율: %010.2f\" % pi)"
      ],
      "metadata": {
        "colab": {
          "base_uri": "https://localhost:8080/"
        },
        "id": "s6D8R3URbSuf",
        "outputId": "aee3b78d-ba23-4955-d2d7-b79ef1cc7b1c"
      },
      "execution_count": 13,
      "outputs": [
        {
          "output_type": "stream",
          "name": "stdout",
          "text": [
            "원주율: 3.14\n",
            "원주율:       3.14\n",
            "원주율: 0000003.14\n"
          ]
        }
      ]
    },
    {
      "cell_type": "code",
      "source": [
        "#컴퓨터가 선택한 수 맞히기\n",
        "import random\n",
        "\n",
        "print('1부터 100까지의 수 하나를 정했습니다.')\n",
        "print('이 숫자를 맞혀보세요.')\n",
        "\n",
        "answer = random. randint(1,100)\n",
        "times = 0\n",
        "\n",
        "print(answer)\n",
        "\n",
        "while True:\n",
        "  user = int(input('1~100 숫자 입력:'))\n",
        "  times += 1\n",
        "\n",
        "  if user == answer:\n",
        "    break\n",
        "  elif user < answer:\n",
        "    print(f'{user}보다 큽니다.')\n",
        "  else:\n",
        "    print(f'{user}보다 작습니다.')\n",
        "\n",
        "print(f'정답입니다! {times}회 만에 맞혔습니다.')"
      ],
      "metadata": {
        "colab": {
          "base_uri": "https://localhost:8080/"
        },
        "id": "AS-RZIYmbtJF",
        "outputId": "382b961f-c582-40aa-d243-d17fb753e56a"
      },
      "execution_count": 19,
      "outputs": [
        {
          "output_type": "stream",
          "name": "stdout",
          "text": [
            "1부터 100까지의 수 하나를 정했습니다.\n",
            "이 숫자를 맞혀보세요.\n",
            "26\n",
            "1~100 숫자 입력:26\n",
            "정답입니다! 1회 만에 맞혔습니다.\n"
          ]
        }
      ]
    }
  ]
}