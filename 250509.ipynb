{
 "cells": [
  {
   "cell_type": "code",
   "execution_count": null,
   "id": "55109260",
   "metadata": {},
   "outputs": [
    {
     "name": "stdout",
     "output_type": "stream",
     "text": [
      "[0. 0. 0. 0. 0.]\n"
     ]
    }
   ],
   "source": [
    "# 실습문제\n",
    "# 문제 1: 다음 조건에 맞는 배열을 생성하고 출력하세요.\n",
    "\n",
    "import numpy as np\n",
    "\n",
    "arr = np.zeros(5)\n",
    "print(arr)"
   ]
  },
  {
   "cell_type": "code",
   "execution_count": null,
   "id": "dd4f8d12",
   "metadata": {},
   "outputs": [
    {
     "name": "stdout",
     "output_type": "stream",
     "text": [
      "[11 22 33]\n",
      "[10 40 90]\n",
      "[1 4 9]\n",
      "[1.         1.41421356 1.73205081]\n"
     ]
    }
   ],
   "source": [
    "import numpy as np\n",
    "\n",
    "a = np.array([1, 2, 3])\n",
    "b = np.array([10, 20, 30])\n",
    "\n",
    "print(a + b)         # [11 22 33]\n",
    "print(a * b)         # [10 40 90]\n",
    "print(a ** 2)        # 제곱 [1 4 9]\n",
    "print(np.sqrt(a))    # 제곱근"
   ]
  },
  {
   "cell_type": "code",
   "execution_count": null,
   "id": "3e0d9117",
   "metadata": {},
   "outputs": [
    {
     "name": "stdout",
     "output_type": "stream",
     "text": [
      "Sum: 15\n",
      "Mean: 3.0\n",
      "Standard Deviation: 1.4142135623730951\n",
      "Min/Max: 1 5\n"
     ]
    }
   ],
   "source": [
    "arr = np.array([1, 2, 3, 4, 5])\n",
    "\n",
    "print(\"Sum:\", np.sum(arr))\n",
    "print(\"Mean:\", np.mean(arr))\n",
    "print(\"Standard Deviation:\", np.std(arr))\n",
    "print(\"Min/Max:\", np.min(arr), np.max(arr))"
   ]
  },
  {
   "cell_type": "code",
   "execution_count": null,
   "id": "447396ef",
   "metadata": {},
   "outputs": [
    {
     "name": "stdout",
     "output_type": "stream",
     "text": [
      "2 4 6 8 10\n"
     ]
    },
    {
     "name": "stdout",
     "output_type": "stream",
     "text": [
      "2 4 6 8 10\n",
      "20 80 180\n",
      "80 180\n"
     ]
    }
   ],
   "source": [
    "# 문제 2: 1부터 10까지의 숫자 중 짝수만 포함하는 배열을 생성하세요.\n",
    "\n",
    "arr = np.arange(2, 11, 2)\n",
    "print(*arr)\n",
    "\n",
    "# 문제 3: [2, 4, 6] 배열과 [10, 20, 30] 배열을 각각 생성하고, 곱셈 연산을 수행한 결과를 출력하세요.\n",
    "\n",
    "a = np.array([2, 4, 6])\n",
    "b = np.array([10, 20, 30])\n",
    "\n",
    "multiply = a * b\n",
    "print(*(multiply))\n",
    "\n",
    "# 문제 4: 위 배열에서 20보다 큰 요소만 필터링해서 출력하세요.\n",
    "\n",
    "filter = multiply[multiply > 20]\n",
    "print(*(filter))"
   ]
  },
  {
   "cell_type": "code",
   "execution_count": 51,
   "id": "d88e6d24",
   "metadata": {},
   "outputs": [
    {
     "name": "stdout",
     "output_type": "stream",
     "text": [
      "2.2.3\n"
     ]
    }
   ],
   "source": [
    "import pandas as pd\n",
    "print(pd.__version__)"
   ]
  },
  {
   "cell_type": "code",
   "execution_count": 66,
   "id": "922780d9",
   "metadata": {},
   "outputs": [
    {
     "name": "stdout",
     "output_type": "stream",
     "text": [
      "0    10\n",
      "1    20\n",
      "2    30\n",
      "3    40\n",
      "dtype: int64\n"
     ]
    }
   ],
   "source": [
    "import pandas as pd\n",
    "\n",
    "s = pd.Series([10, 20, 30, 40])\n",
    "print(s)"
   ]
  },
  {
   "cell_type": "code",
   "execution_count": 67,
   "id": "84b0571e",
   "metadata": {},
   "outputs": [
    {
     "name": "stdout",
     "output_type": "stream",
     "text": [
      "    이름  나이 성별\n",
      "0  홍길동  25  남\n",
      "1  김철수  30  남\n",
      "2  이영희  27  여\n"
     ]
    }
   ],
   "source": [
    "data = {\n",
    "    '이름': ['홍길동', '김철수', '이영희'],\n",
    "    '나이': [25, 30, 27],\n",
    "    '성별': ['남', '남', '여']\n",
    "}\n",
    "\n",
    "df = pd.DataFrame(data)\n",
    "print(df)"
   ]
  },
  {
   "cell_type": "code",
   "execution_count": null,
   "id": "dc9d5389",
   "metadata": {},
   "outputs": [
    {
     "name": "stdout",
     "output_type": "stream",
     "text": [
      "  성별  부서    연봉\n",
      "0  남  영업  5000\n",
      "1  여  인사  4500\n",
      "2  남  영업  5200\n",
      "3  여  재무  4800\n",
      "4  남  영업  5100\n"
     ]
    }
   ],
   "source": [
    "import pandas as pd\n",
    "\n",
    "data = {\n",
    "    '성별': ['남', '여', '남', '여', '남'],\n",
    "    '부서': ['영업', '인사', '영업', '재무', '영업'],\n",
    "    '연봉': [5000, 4500, 5200, 4800, 5100]\n",
    "}\n",
    "\n",
    "df = pd.DataFrame(data)\n",
    "print(df)\n",
    "\n",
    "df.to_csv('employee_data.csv', index=False)\n",
    "# csv 파일로 저장"
   ]
  },
  {
   "cell_type": "code",
   "execution_count": 91,
   "id": "4ab2958e",
   "metadata": {},
   "outputs": [
    {
     "name": "stdout",
     "output_type": "stream",
     "text": [
      "      pclass  survived                       name     sex   age  sibsp  parch  \\\n",
      "1304       3         0       Zabour, Miss. Hileni  female  14.5      1      0   \n",
      "1305       3         0      Zabour, Miss. Thamine  female   NaN      1      0   \n",
      "1306       3         0  Zakarian, Mr. Mapriededer    male  26.5      0      0   \n",
      "1307       3         0        Zakarian, Mr. Ortin    male  27.0      0      0   \n",
      "1308       3         0         Zimmerman, Mr. Leo    male  29.0      0      0   \n",
      "\n",
      "      ticket     fare cabin embarked boat   body home.dest  \n",
      "1304    2665  14.4542   NaN        C  NaN  328.0       NaN  \n",
      "1305    2665  14.4542   NaN        C  NaN    NaN       NaN  \n",
      "1306    2656   7.2250   NaN        C  NaN  304.0       NaN  \n",
      "1307    2670   7.2250   NaN        C  NaN    NaN       NaN  \n",
      "1308  315082   7.8750   NaN        S  NaN    NaN       NaN  \n"
     ]
    }
   ],
   "source": [
    "import pandas as pd\n",
    "\n",
    "df = pd.read_excel('/Users/ljuae/Desktop/윤서/python/test/titanic.xls')\n",
    "print(df.tail(5))\n"
   ]
  },
  {
   "cell_type": "code",
   "execution_count": 92,
   "id": "328d2958",
   "metadata": {},
   "outputs": [
    {
     "name": "stdout",
     "output_type": "stream",
     "text": [
      "<class 'pandas.core.frame.DataFrame'>\n",
      "RangeIndex: 1309 entries, 0 to 1308\n",
      "Data columns (total 14 columns):\n",
      " #   Column     Non-Null Count  Dtype  \n",
      "---  ------     --------------  -----  \n",
      " 0   pclass     1309 non-null   int64  \n",
      " 1   survived   1309 non-null   int64  \n",
      " 2   name       1309 non-null   object \n",
      " 3   sex        1309 non-null   object \n",
      " 4   age        1046 non-null   float64\n",
      " 5   sibsp      1309 non-null   int64  \n",
      " 6   parch      1309 non-null   int64  \n",
      " 7   ticket     1309 non-null   object \n",
      " 8   fare       1308 non-null   float64\n",
      " 9   cabin      295 non-null    object \n",
      " 10  embarked   1307 non-null   object \n",
      " 11  boat       486 non-null    object \n",
      " 12  body       121 non-null    float64\n",
      " 13  home.dest  745 non-null    object \n",
      "dtypes: float64(3), int64(4), object(7)\n",
      "memory usage: 143.3+ KB\n"
     ]
    }
   ],
   "source": [
    "df.info()"
   ]
  },
  {
   "cell_type": "code",
   "execution_count": 96,
   "id": "3a033335",
   "metadata": {},
   "outputs": [
    {
     "data": {
      "text/html": [
       "<div>\n",
       "<style scoped>\n",
       "    .dataframe tbody tr th:only-of-type {\n",
       "        vertical-align: middle;\n",
       "    }\n",
       "\n",
       "    .dataframe tbody tr th {\n",
       "        vertical-align: top;\n",
       "    }\n",
       "\n",
       "    .dataframe thead th {\n",
       "        text-align: right;\n",
       "    }\n",
       "</style>\n",
       "<table border=\"1\" class=\"dataframe\">\n",
       "  <thead>\n",
       "    <tr style=\"text-align: right;\">\n",
       "      <th></th>\n",
       "      <th>pclass</th>\n",
       "      <th>survived</th>\n",
       "      <th>age</th>\n",
       "      <th>sibsp</th>\n",
       "      <th>parch</th>\n",
       "      <th>fare</th>\n",
       "      <th>body</th>\n",
       "    </tr>\n",
       "  </thead>\n",
       "  <tbody>\n",
       "    <tr>\n",
       "      <th>count</th>\n",
       "      <td>1309.000000</td>\n",
       "      <td>1309.000000</td>\n",
       "      <td>1046.000000</td>\n",
       "      <td>1309.000000</td>\n",
       "      <td>1309.000000</td>\n",
       "      <td>1308.000000</td>\n",
       "      <td>121.000000</td>\n",
       "    </tr>\n",
       "    <tr>\n",
       "      <th>mean</th>\n",
       "      <td>2.294882</td>\n",
       "      <td>0.381971</td>\n",
       "      <td>29.881135</td>\n",
       "      <td>0.498854</td>\n",
       "      <td>0.385027</td>\n",
       "      <td>33.295479</td>\n",
       "      <td>160.809917</td>\n",
       "    </tr>\n",
       "    <tr>\n",
       "      <th>std</th>\n",
       "      <td>0.837836</td>\n",
       "      <td>0.486055</td>\n",
       "      <td>14.413500</td>\n",
       "      <td>1.041658</td>\n",
       "      <td>0.865560</td>\n",
       "      <td>51.758668</td>\n",
       "      <td>97.696922</td>\n",
       "    </tr>\n",
       "    <tr>\n",
       "      <th>min</th>\n",
       "      <td>1.000000</td>\n",
       "      <td>0.000000</td>\n",
       "      <td>0.166700</td>\n",
       "      <td>0.000000</td>\n",
       "      <td>0.000000</td>\n",
       "      <td>0.000000</td>\n",
       "      <td>1.000000</td>\n",
       "    </tr>\n",
       "    <tr>\n",
       "      <th>25%</th>\n",
       "      <td>2.000000</td>\n",
       "      <td>0.000000</td>\n",
       "      <td>21.000000</td>\n",
       "      <td>0.000000</td>\n",
       "      <td>0.000000</td>\n",
       "      <td>7.895800</td>\n",
       "      <td>72.000000</td>\n",
       "    </tr>\n",
       "    <tr>\n",
       "      <th>50%</th>\n",
       "      <td>3.000000</td>\n",
       "      <td>0.000000</td>\n",
       "      <td>28.000000</td>\n",
       "      <td>0.000000</td>\n",
       "      <td>0.000000</td>\n",
       "      <td>14.454200</td>\n",
       "      <td>155.000000</td>\n",
       "    </tr>\n",
       "    <tr>\n",
       "      <th>75%</th>\n",
       "      <td>3.000000</td>\n",
       "      <td>1.000000</td>\n",
       "      <td>39.000000</td>\n",
       "      <td>1.000000</td>\n",
       "      <td>0.000000</td>\n",
       "      <td>31.275000</td>\n",
       "      <td>256.000000</td>\n",
       "    </tr>\n",
       "    <tr>\n",
       "      <th>max</th>\n",
       "      <td>3.000000</td>\n",
       "      <td>1.000000</td>\n",
       "      <td>80.000000</td>\n",
       "      <td>8.000000</td>\n",
       "      <td>9.000000</td>\n",
       "      <td>512.329200</td>\n",
       "      <td>328.000000</td>\n",
       "    </tr>\n",
       "  </tbody>\n",
       "</table>\n",
       "</div>"
      ],
      "text/plain": [
       "            pclass     survived          age        sibsp        parch  \\\n",
       "count  1309.000000  1309.000000  1046.000000  1309.000000  1309.000000   \n",
       "mean      2.294882     0.381971    29.881135     0.498854     0.385027   \n",
       "std       0.837836     0.486055    14.413500     1.041658     0.865560   \n",
       "min       1.000000     0.000000     0.166700     0.000000     0.000000   \n",
       "25%       2.000000     0.000000    21.000000     0.000000     0.000000   \n",
       "50%       3.000000     0.000000    28.000000     0.000000     0.000000   \n",
       "75%       3.000000     1.000000    39.000000     1.000000     0.000000   \n",
       "max       3.000000     1.000000    80.000000     8.000000     9.000000   \n",
       "\n",
       "              fare        body  \n",
       "count  1308.000000  121.000000  \n",
       "mean     33.295479  160.809917  \n",
       "std      51.758668   97.696922  \n",
       "min       0.000000    1.000000  \n",
       "25%       7.895800   72.000000  \n",
       "50%      14.454200  155.000000  \n",
       "75%      31.275000  256.000000  \n",
       "max     512.329200  328.000000  "
      ]
     },
     "execution_count": 96,
     "metadata": {},
     "output_type": "execute_result"
    }
   ],
   "source": [
    "df.describe()"
   ]
  },
  {
   "cell_type": "code",
   "execution_count": 97,
   "id": "fa5a1bb9",
   "metadata": {},
   "outputs": [
    {
     "data": {
      "text/html": [
       "<div>\n",
       "<style scoped>\n",
       "    .dataframe tbody tr th:only-of-type {\n",
       "        vertical-align: middle;\n",
       "    }\n",
       "\n",
       "    .dataframe tbody tr th {\n",
       "        vertical-align: top;\n",
       "    }\n",
       "\n",
       "    .dataframe thead th {\n",
       "        text-align: right;\n",
       "    }\n",
       "</style>\n",
       "<table border=\"1\" class=\"dataframe\">\n",
       "  <thead>\n",
       "    <tr style=\"text-align: right;\">\n",
       "      <th></th>\n",
       "      <th>pclass</th>\n",
       "      <th>survived</th>\n",
       "      <th>name</th>\n",
       "      <th>sex</th>\n",
       "      <th>age</th>\n",
       "      <th>sibsp</th>\n",
       "      <th>parch</th>\n",
       "      <th>ticket</th>\n",
       "      <th>fare</th>\n",
       "      <th>cabin</th>\n",
       "      <th>embarked</th>\n",
       "      <th>boat</th>\n",
       "      <th>body</th>\n",
       "      <th>home.dest</th>\n",
       "    </tr>\n",
       "  </thead>\n",
       "  <tbody>\n",
       "    <tr>\n",
       "      <th>0</th>\n",
       "      <td>1</td>\n",
       "      <td>1</td>\n",
       "      <td>Allen, Miss. Elisabeth Walton</td>\n",
       "      <td>female</td>\n",
       "      <td>29.0</td>\n",
       "      <td>0</td>\n",
       "      <td>0</td>\n",
       "      <td>24160</td>\n",
       "      <td>211.3375</td>\n",
       "      <td>B5</td>\n",
       "      <td>S</td>\n",
       "      <td>2</td>\n",
       "      <td>NaN</td>\n",
       "      <td>St Louis, MO</td>\n",
       "    </tr>\n",
       "    <tr>\n",
       "      <th>3</th>\n",
       "      <td>1</td>\n",
       "      <td>0</td>\n",
       "      <td>Allison, Mr. Hudson Joshua Creighton</td>\n",
       "      <td>male</td>\n",
       "      <td>30.0</td>\n",
       "      <td>1</td>\n",
       "      <td>2</td>\n",
       "      <td>113781</td>\n",
       "      <td>151.5500</td>\n",
       "      <td>C22 C26</td>\n",
       "      <td>S</td>\n",
       "      <td>NaN</td>\n",
       "      <td>135.0</td>\n",
       "      <td>Montreal, PQ / Chesterville, ON</td>\n",
       "    </tr>\n",
       "    <tr>\n",
       "      <th>5</th>\n",
       "      <td>1</td>\n",
       "      <td>1</td>\n",
       "      <td>Anderson, Mr. Harry</td>\n",
       "      <td>male</td>\n",
       "      <td>48.0</td>\n",
       "      <td>0</td>\n",
       "      <td>0</td>\n",
       "      <td>19952</td>\n",
       "      <td>26.5500</td>\n",
       "      <td>E12</td>\n",
       "      <td>S</td>\n",
       "      <td>3</td>\n",
       "      <td>NaN</td>\n",
       "      <td>New York, NY</td>\n",
       "    </tr>\n",
       "    <tr>\n",
       "      <th>6</th>\n",
       "      <td>1</td>\n",
       "      <td>1</td>\n",
       "      <td>Andrews, Miss. Kornelia Theodosia</td>\n",
       "      <td>female</td>\n",
       "      <td>63.0</td>\n",
       "      <td>1</td>\n",
       "      <td>0</td>\n",
       "      <td>13502</td>\n",
       "      <td>77.9583</td>\n",
       "      <td>D7</td>\n",
       "      <td>S</td>\n",
       "      <td>10</td>\n",
       "      <td>NaN</td>\n",
       "      <td>Hudson, NY</td>\n",
       "    </tr>\n",
       "    <tr>\n",
       "      <th>7</th>\n",
       "      <td>1</td>\n",
       "      <td>0</td>\n",
       "      <td>Andrews, Mr. Thomas Jr</td>\n",
       "      <td>male</td>\n",
       "      <td>39.0</td>\n",
       "      <td>0</td>\n",
       "      <td>0</td>\n",
       "      <td>112050</td>\n",
       "      <td>0.0000</td>\n",
       "      <td>A36</td>\n",
       "      <td>S</td>\n",
       "      <td>NaN</td>\n",
       "      <td>NaN</td>\n",
       "      <td>Belfast, NI</td>\n",
       "    </tr>\n",
       "    <tr>\n",
       "      <th>...</th>\n",
       "      <td>...</td>\n",
       "      <td>...</td>\n",
       "      <td>...</td>\n",
       "      <td>...</td>\n",
       "      <td>...</td>\n",
       "      <td>...</td>\n",
       "      <td>...</td>\n",
       "      <td>...</td>\n",
       "      <td>...</td>\n",
       "      <td>...</td>\n",
       "      <td>...</td>\n",
       "      <td>...</td>\n",
       "      <td>...</td>\n",
       "      <td>...</td>\n",
       "    </tr>\n",
       "    <tr>\n",
       "      <th>1299</th>\n",
       "      <td>3</td>\n",
       "      <td>0</td>\n",
       "      <td>Yasbeck, Mr. Antoni</td>\n",
       "      <td>male</td>\n",
       "      <td>27.0</td>\n",
       "      <td>1</td>\n",
       "      <td>0</td>\n",
       "      <td>2659</td>\n",
       "      <td>14.4542</td>\n",
       "      <td>NaN</td>\n",
       "      <td>C</td>\n",
       "      <td>C</td>\n",
       "      <td>NaN</td>\n",
       "      <td>NaN</td>\n",
       "    </tr>\n",
       "    <tr>\n",
       "      <th>1301</th>\n",
       "      <td>3</td>\n",
       "      <td>0</td>\n",
       "      <td>Youseff, Mr. Gerious</td>\n",
       "      <td>male</td>\n",
       "      <td>45.5</td>\n",
       "      <td>0</td>\n",
       "      <td>0</td>\n",
       "      <td>2628</td>\n",
       "      <td>7.2250</td>\n",
       "      <td>NaN</td>\n",
       "      <td>C</td>\n",
       "      <td>NaN</td>\n",
       "      <td>312.0</td>\n",
       "      <td>NaN</td>\n",
       "    </tr>\n",
       "    <tr>\n",
       "      <th>1306</th>\n",
       "      <td>3</td>\n",
       "      <td>0</td>\n",
       "      <td>Zakarian, Mr. Mapriededer</td>\n",
       "      <td>male</td>\n",
       "      <td>26.5</td>\n",
       "      <td>0</td>\n",
       "      <td>0</td>\n",
       "      <td>2656</td>\n",
       "      <td>7.2250</td>\n",
       "      <td>NaN</td>\n",
       "      <td>C</td>\n",
       "      <td>NaN</td>\n",
       "      <td>304.0</td>\n",
       "      <td>NaN</td>\n",
       "    </tr>\n",
       "    <tr>\n",
       "      <th>1307</th>\n",
       "      <td>3</td>\n",
       "      <td>0</td>\n",
       "      <td>Zakarian, Mr. Ortin</td>\n",
       "      <td>male</td>\n",
       "      <td>27.0</td>\n",
       "      <td>0</td>\n",
       "      <td>0</td>\n",
       "      <td>2670</td>\n",
       "      <td>7.2250</td>\n",
       "      <td>NaN</td>\n",
       "      <td>C</td>\n",
       "      <td>NaN</td>\n",
       "      <td>NaN</td>\n",
       "      <td>NaN</td>\n",
       "    </tr>\n",
       "    <tr>\n",
       "      <th>1308</th>\n",
       "      <td>3</td>\n",
       "      <td>0</td>\n",
       "      <td>Zimmerman, Mr. Leo</td>\n",
       "      <td>male</td>\n",
       "      <td>29.0</td>\n",
       "      <td>0</td>\n",
       "      <td>0</td>\n",
       "      <td>315082</td>\n",
       "      <td>7.8750</td>\n",
       "      <td>NaN</td>\n",
       "      <td>S</td>\n",
       "      <td>NaN</td>\n",
       "      <td>NaN</td>\n",
       "      <td>NaN</td>\n",
       "    </tr>\n",
       "  </tbody>\n",
       "</table>\n",
       "<p>603 rows × 14 columns</p>\n",
       "</div>"
      ],
      "text/plain": [
       "      pclass  survived                                  name     sex   age  \\\n",
       "0          1         1         Allen, Miss. Elisabeth Walton  female  29.0   \n",
       "3          1         0  Allison, Mr. Hudson Joshua Creighton    male  30.0   \n",
       "5          1         1                   Anderson, Mr. Harry    male  48.0   \n",
       "6          1         1     Andrews, Miss. Kornelia Theodosia  female  63.0   \n",
       "7          1         0                Andrews, Mr. Thomas Jr    male  39.0   \n",
       "...      ...       ...                                   ...     ...   ...   \n",
       "1299       3         0                   Yasbeck, Mr. Antoni    male  27.0   \n",
       "1301       3         0                  Youseff, Mr. Gerious    male  45.5   \n",
       "1306       3         0             Zakarian, Mr. Mapriededer    male  26.5   \n",
       "1307       3         0                   Zakarian, Mr. Ortin    male  27.0   \n",
       "1308       3         0                    Zimmerman, Mr. Leo    male  29.0   \n",
       "\n",
       "      sibsp  parch  ticket      fare    cabin embarked boat   body  \\\n",
       "0         0      0   24160  211.3375       B5        S    2    NaN   \n",
       "3         1      2  113781  151.5500  C22 C26        S  NaN  135.0   \n",
       "5         0      0   19952   26.5500      E12        S    3    NaN   \n",
       "6         1      0   13502   77.9583       D7        S   10    NaN   \n",
       "7         0      0  112050    0.0000      A36        S  NaN    NaN   \n",
       "...     ...    ...     ...       ...      ...      ...  ...    ...   \n",
       "1299      1      0    2659   14.4542      NaN        C    C    NaN   \n",
       "1301      0      0    2628    7.2250      NaN        C  NaN  312.0   \n",
       "1306      0      0    2656    7.2250      NaN        C  NaN  304.0   \n",
       "1307      0      0    2670    7.2250      NaN        C  NaN    NaN   \n",
       "1308      0      0  315082    7.8750      NaN        S  NaN    NaN   \n",
       "\n",
       "                            home.dest  \n",
       "0                        St Louis, MO  \n",
       "3     Montreal, PQ / Chesterville, ON  \n",
       "5                        New York, NY  \n",
       "6                          Hudson, NY  \n",
       "7                         Belfast, NI  \n",
       "...                               ...  \n",
       "1299                              NaN  \n",
       "1301                              NaN  \n",
       "1306                              NaN  \n",
       "1307                              NaN  \n",
       "1308                              NaN  \n",
       "\n",
       "[603 rows x 14 columns]"
      ]
     },
     "execution_count": 97,
     "metadata": {},
     "output_type": "execute_result"
    }
   ],
   "source": [
    "df[df['age'] > 25]"
   ]
  },
  {
   "cell_type": "code",
   "execution_count": 99,
   "id": "461c3151",
   "metadata": {},
   "outputs": [
    {
     "name": "stdout",
     "output_type": "stream",
     "text": [
      "<class 'pandas.core.frame.DataFrame'>\n",
      "RangeIndex: 1309 entries, 0 to 1308\n",
      "Data columns (total 14 columns):\n",
      " #   Column     Non-Null Count  Dtype  \n",
      "---  ------     --------------  -----  \n",
      " 0   pclass     1309 non-null   int64  \n",
      " 1   survived   1309 non-null   int64  \n",
      " 2   name       1309 non-null   object \n",
      " 3   sex        1309 non-null   object \n",
      " 4   age        1046 non-null   float64\n",
      " 5   sibsp      1309 non-null   int64  \n",
      " 6   parch      1309 non-null   int64  \n",
      " 7   ticket     1309 non-null   object \n",
      " 8   fare       1308 non-null   float64\n",
      " 9   cabin      295 non-null    object \n",
      " 10  embarked   1307 non-null   object \n",
      " 11  boat       486 non-null    object \n",
      " 12  body       121 non-null    float64\n",
      " 13  home.dest  745 non-null    object \n",
      "dtypes: float64(3), int64(4), object(7)\n",
      "memory usage: 143.3+ KB\n"
     ]
    }
   ],
   "source": [
    "df.dropna()\n",
    "df.info()"
   ]
  },
  {
   "cell_type": "code",
   "execution_count": 100,
   "id": "4deffebc",
   "metadata": {},
   "outputs": [
    {
     "name": "stdout",
     "output_type": "stream",
     "text": [
      "sex\n",
      "female    28.687071\n",
      "male      30.585233\n",
      "Name: age, dtype: float64\n"
     ]
    }
   ],
   "source": [
    "result = df.groupby('sex')['age'].mean()\n",
    "print(result)"
   ]
  },
  {
   "cell_type": "code",
   "execution_count": 52,
   "id": "3791ec04",
   "metadata": {},
   "outputs": [
    {
     "data": {
      "image/png": "[encoded data removed]",
      "text/plain": [
       "<Figure size 640x480 with 1 Axes>"
      ]
     },
     "metadata": {},
     "output_type": "display_data"
    }
   ],
   "source": [
    "import matplotlib.pyplot as plt\n",
    "\n",
    "year = [2014,2015,2016,2017,2018,2019,2020,2021,2022]\n",
    "gdp = [3079.9,3250.1,3398.8,3574,3678.2,3721.8,3744,4003.6,4165.5]\n",
    "\n",
    "plt.plot(year,gdp)\n",
    "plt.show()"
   ]
  },
  {
   "cell_type": "code",
   "execution_count": 53,
   "id": "4ecf91cc",
   "metadata": {},
   "outputs": [
    {
     "data": {
      "image/png": "[encoded data removed]",
      "text/plain": [
       "<Figure size 500x300 with 1 Axes>"
      ]
     },
     "metadata": {},
     "output_type": "display_data"
    }
   ],
   "source": [
    "import matplotlib.pyplot as plt\n",
    "\n",
    "year = [2014,2015,2016,2017,2018,2019,2020,2021,2022]\n",
    "gdp = [3079.9,3250.1,3398.8,3574,3678.2,3721.8,3744,4003.6,4165.5]\n",
    "\n",
    "plt.figure(figsize=(5,3))\n",
    "plt.plot(year,gdp, 'g.-')\n",
    "plt.title('GDP per capita')\n",
    "plt.xlabel('years')\n",
    "plt.ylabel('ten thousands won')\n",
    "plt.ylim(2500, 4500)\n",
    "plt.show()"
   ]
  },
  {
   "cell_type": "code",
   "execution_count": 54,
   "id": "1d370f17",
   "metadata": {},
   "outputs": [
    {
     "data": {
      "image/png": "[encoded data removed]",
      "text/plain": [
       "<Figure size 500x300 with 1 Axes>"
      ]
     },
     "metadata": {},
     "output_type": "display_data"
    }
   ],
   "source": [
    "import matplotlib.pyplot as plt\n",
    "\n",
    "year = [2010,2011,2012,2013,2014,2015,2016,2017,2018,2019,2020,2021,2022]\n",
    "seoul = [12.1,12,12.2,12.5,13.4,13.6,13.6,13,12.9,13.5,13.2,13.7,13.2]\n",
    "jeju = [15.6,15.6,15.7,16.5,16.2,16.7,17,16.8,16.6,16.8,16.7,17.5,17]\n",
    "\n",
    "plt.figure(figsize=(5,3))\n",
    "plt.plot(year,seoul,label='seoul')\n",
    "plt.plot(year,jeju,label='jeju')\n",
    "plt.ylim(10, 20)\n",
    "plt.title('temperature')\n",
    "plt.xlabel('year')\n",
    "plt.legend()\n",
    "plt.show()"
   ]
  },
  {
   "cell_type": "code",
   "execution_count": 55,
   "id": "e3bc5fd4",
   "metadata": {},
   "outputs": [
    {
     "data": {
      "image/png": "[encoded data removed]",
      "text/plain": [
       "<Figure size 500x300 with 1 Axes>"
      ]
     },
     "metadata": {},
     "output_type": "display_data"
    }
   ],
   "source": [
    "import matplotlib.pyplot as plt\n",
    "\n",
    "season = ['spring','summer','fall','winter']\n",
    "precipitation = [330.5, 612.8, 256.4, 13.3]\n",
    "\n",
    "plt.figure(figsize=(5,3))\n",
    "plt.bar(season, precipitation)\n",
    "plt.title('precipitation')\n",
    "plt.ylabel('mm')\n",
    "plt.show()"
   ]
  },
  {
   "cell_type": "code",
   "execution_count": 56,
   "id": "753b4aa0",
   "metadata": {},
   "outputs": [
    {
     "data": {
      "image/png": "[encoded data removed]",
      "text/plain": [
       "<Figure size 500x300 with 1 Axes>"
      ]
     },
     "metadata": {},
     "output_type": "display_data"
    }
   ],
   "source": [
    "import matplotlib.pyplot as plt\n",
    "\n",
    "preci = {'sprindg':330.5, 'summer':612.8, 'fall':256.4, 'winter':13.3}\n",
    "\n",
    "plt.figure(figsize=(5,3))\n",
    "plt.bar(preci.keys(), preci.values())\n",
    "plt.title('precipitation')\n",
    "plt.ylabel('mm')\n",
    "plt.show()"
   ]
  },
  {
   "cell_type": "code",
   "execution_count": 57,
   "id": "6189c378",
   "metadata": {},
   "outputs": [
    {
     "data": {
      "image/png": "[encoded data removed]",
      "text/plain": [
       "<Figure size 500x300 with 1 Axes>"
      ]
     },
     "metadata": {},
     "output_type": "display_data"
    }
   ],
   "source": [
    "import matplotlib.pyplot as plt\n",
    "\n",
    "year = [2000, 2005, 2010, 2015, 2020]\n",
    "single_person = [15.5, 20.0, 23.9, 27.2, 31.7]\n",
    "baby_born = [640089,430707, 470171, 438420, 272337]\n",
    "\n",
    "plt.figure(figsize=(5,3))\n",
    "plt.scatter(single_person, baby_born)\n",
    "plt.xlabel('single-person household ratio')\n",
    "plt.ylabel('the number of babies born')\n",
    "plt.show()"
   ]
  },
  {
   "cell_type": "code",
   "execution_count": 58,
   "id": "ef792ac2",
   "metadata": {},
   "outputs": [
    {
     "data": {
      "image/png": "[encoded data removed]",
      "text/plain": [
       "<Figure size 500x300 with 1 Axes>"
      ]
     },
     "metadata": {},
     "output_type": "display_data"
    }
   ],
   "source": [
    "import matplotlib.pyplot as plt\n",
    "\n",
    "height = [156.9,159.9,153.5,151.2,154.6,168.3,165,154.7,146,152.4]\n",
    "weight = [48.7,58.5,48.4,39,58.9,80.8,59.3,49.4,35.3,51.8]\n",
    "gender = ['f','f', 'f', 'f', 'f', 'm', 'm', 'm', 'm', 'm']\n",
    "\n",
    "plt.figure(figsize=(5,3))\n",
    "plt.scatter(height, weight)\n",
    "plt.xlabel('height')\n",
    "plt.ylabel('weight')\n",
    "plt.show()"
   ]
  },
  {
   "cell_type": "code",
   "execution_count": 59,
   "id": "fd1a59f9",
   "metadata": {},
   "outputs": [
    {
     "data": {
      "image/png": "[encoded data removed]",
      "text/plain": [
       "<Figure size 500x300 with 1 Axes>"
      ]
     },
     "metadata": {},
     "output_type": "display_data"
    }
   ],
   "source": [
    "import matplotlib.pyplot as plt\n",
    "\n",
    "height = [156.9,159.9,153.5,151.2,154.6,168.3,165,154.7,146,152.4]\n",
    "weight = [48.7,58.5,48.4,39,58.9,80.8,59.3,49.4,35.3,51.8]\n",
    "gender = ['f','f','f','f','f', 'm', 'm', 'm', 'm', 'm']\n",
    "colors =['r' if a=='f' else 'b' for a in gender]\n",
    "\n",
    "plt.figure(figsize=(5,3))\n",
    "plt.scatter(height, weight, c=colors)\n",
    "plt.xlabel('height')\n",
    "plt.ylabel('weight')\n",
    "plt.show()"
   ]
  },
  {
   "cell_type": "code",
   "execution_count": 60,
   "id": "17f0a093",
   "metadata": {},
   "outputs": [
    {
     "data": {
      "image/png": "[encoded data removed]",
      "text/plain": [
       "<Figure size 500x300 with 1 Axes>"
      ]
     },
     "metadata": {},
     "output_type": "display_data"
    }
   ],
   "source": [
    "import matplotlib.pyplot as plt\n",
    "\n",
    "name = ['Jessica', 'Liam', 'Sophia']\n",
    "x = [75, 92, 83]\n",
    "y = [79, 89, 90]\n",
    "\n",
    "plt.figure(figsize=(5,3))\n",
    "plt.scatter(x, y)\n",
    "for i in range (len(name)):\n",
    "    plt.annotate (name[i],xy=(x[i],y[i]),xytext=(5,-10),textcoords='offset points')\n",
    "plt.xlim(73, 95)\n",
    "plt.ylim(75, 93)\n",
    "plt.xlabel('X')\n",
    "plt.ylabel('Y')\n",
    "plt.show()"
   ]
  },
  {
   "cell_type": "code",
   "execution_count": 61,
   "id": "f0153cd9",
   "metadata": {},
   "outputs": [
    {
     "data": {
      "image/png": "[encoded data removed]",
      "text/plain": [
       "<Figure size 500x300 with 1 Axes>"
      ]
     },
     "metadata": {},
     "output_type": "display_data"
    }
   ],
   "source": [
    "import matplotlib.pyplot as plt\n",
    "\n",
    "temperature = [6,2.2,4.6,7.7,8,9.2,11.7,12.5,10.3,13.5,\n",
    "                15.2,5.9,2.9,9.2,8.6,4.6,7.2,7.7,8.3,9.5,\n",
    "                13,17,17.4,12.5,12.5,9.4,7.3,9.2,11.8,13.3,15]\n",
    "\n",
    "plt.figure(figsize=(5,3))\n",
    "plt.hist(temperature, bins=15, alpha=0.5)\n",
    "plt.xlabel('temperature')\n",
    "plt.ylabel('frequency')\n",
    "plt.show()"
   ]
  },
  {
   "cell_type": "code",
   "execution_count": 65,
   "id": "e7c5b69c",
   "metadata": {},
   "outputs": [
    {
     "name": "stdout",
     "output_type": "stream",
     "text": [
      "잘못 입력했습니다.\n",
      "잘못 입력했습니다.\n"
     ]
    },
    {
     "data": {
      "text/plain": [
       "<BarContainer object of 4 artists>"
      ]
     },
     "execution_count": 65,
     "metadata": {},
     "output_type": "execute_result"
    },
    {
     "data": {
      "image/png": "[encoded data removed]",
      "text/plain": [
       "<Figure size 500x300 with 1 Axes>"
      ]
     },
     "metadata": {},
     "output_type": "display_data"
    }
   ],
   "source": [
    "import matplotlib.pyplot as plt\n",
    "blood = {'A':0, 'B' :0, '0':0, 'AB' :0}\n",
    "while True:\n",
    "    s = input ('혈액형(A, B, 0, AB) 또는 종료: ')\n",
    "    if s =='종료':\n",
    "        break\n",
    "    elif s in blood:\n",
    "        blood[s] += 1\n",
    "    else:\n",
    "        print('잘못 입력했습니다.')\n",
    "\n",
    "plt.figure(figsize=(5,3))\n",
    "plt.bar(blood.keys(), blood.values(), width=0.6)"
   ]
  },
  {
   "cell_type": "code",
   "execution_count": null,
   "id": "c38849a7",
   "metadata": {},
   "outputs": [
    {
     "name": "stdout",
     "output_type": "stream",
     "text": [
      "수강하고 싶은 강좌를 입력하세요.\n",
      "복수 개의 강좌를 입력하려면 콤마로 구분하세요.\n",
      "TOEIC 1\n",
      "TOEFL 1\n",
      "TOEIC SPEAKING 1\n",
      "OPIC 0\n",
      "IELTS 1\n"
     ]
    }
   ],
   "source": [
    "course = {'TOEIC':0, 'TOEFL':0, 'TOEIC SPEAKING':0, 'OPIC':0, 'IELTS' :0}\n",
    "\n",
    "print('수강하고 싶은 강좌를 입력하세요.')\n",
    "print('복수 개의 강좌를 입력하려면 콤마로 구분하세요.')\n",
    "\n",
    "while True:\n",
    "    s= input('TOEIC, TOEFL, TOEIC SPEAKING, OPIC, IELTS, 종료: ')\n",
    "    if s =='종료':\n",
    "        break\n",
    "    for a in s.split(','): \n",
    "        if a in course:\n",
    "            course[a] += 1\n",
    "        else:\n",
    "            print(f'{a}는 등록되지 않은 강좌입니다.')\n",
    "\n",
    "for key, value in course.items():\n",
    "    print(key, value)"
   ]
  }
 ],
 "metadata": {
  "kernelspec": {
   "display_name": ".venv",
   "language": "python",
   "name": "python3"
  },
  "language_info": {
   "codemirror_mode": {
    "name": "ipython",
    "version": 3
   },
   "file_extension": ".py",
   "mimetype": "text/x-python",
   "name": "python",
   "nbconvert_exporter": "python",
   "pygments_lexer": "ipython3",
   "version": "3.13.0"
  }
 },
 "nbformat": 4,
 "nbformat_minor": 5
}
