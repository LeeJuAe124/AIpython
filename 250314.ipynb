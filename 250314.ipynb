{
  "nbformat": 4,
  "nbformat_minor": 0,
  "metadata": {
    "colab": {
      "provenance": []
    },
    "kernelspec": {
      "name": "python3",
      "display_name": "Python 3"
    },
    "language_info": {
      "name": "python"
    }
  },
  "cells": [
    {
      "cell_type": "code",
      "execution_count": 1,
      "metadata": {
        "colab": {
          "base_uri": "https://localhost:8080/"
        },
        "id": "Cuwu-dsvdINI",
        "outputId": "80dc44e9-b64e-477f-96ef-98b8d57a8593"
      },
      "outputs": [
        {
          "output_type": "execute_result",
          "data": {
            "text/plain": [
              "1"
            ]
          },
          "metadata": {},
          "execution_count": 1
        }
      ],
      "source": [
        "1 #반지름이 5인 원의 면적을 구하시오. π(원주율)값은 3.141592로 계산합니다.\n",
        "  #<출력 예시> 반지름이 5인 원의 면적은 78.5398입니다.\n",
        "\n",
        "2 #분(정수)을 시간과 분으로 변환하여 출력하시오.\n",
        "  #<출력 예시>100분은 1시간 40분입니다.\n",
        "\n"
      ]
    },
    {
      "cell_type": "code",
      "source": [
        "radius = 5\n",
        "pi = 3.141592\n",
        "\n",
        "area = pi*radius**2\n",
        "print(f\"반지름이 {radius}인 원의 면적은 {area}입니다.\")"
      ],
      "metadata": {
        "colab": {
          "base_uri": "https://localhost:8080/"
        },
        "id": "rId5MTGxeB2o",
        "outputId": "dde581c2-e9f5-45a6-dffb-4760fc4e9975"
      },
      "execution_count": 7,
      "outputs": [
        {
          "output_type": "stream",
          "name": "stdout",
          "text": [
            "반지름이 5인 원의 면적은 78.5398입니다.\n"
          ]
        }
      ]
    },
    {
      "cell_type": "code",
      "source": [
        "time = 100\n",
        "\n",
        "hours = time // 60\n",
        "minutes = time % 60\n",
        "\n",
        "print(f\"{time}분은 {hours}시간 {minutes}분입니다.\")"
      ],
      "metadata": {
        "colab": {
          "base_uri": "https://localhost:8080/"
        },
        "id": "qiK4OlNldXPm",
        "outputId": "4f17bc58-67ba-4694-ac01-c0c78b3b9067"
      },
      "execution_count": 15,
      "outputs": [
        {
          "output_type": "stream",
          "name": "stdout",
          "text": [
            "100분은 1시간 40분입니다.\n"
          ]
        }
      ]
    }
  ]
}