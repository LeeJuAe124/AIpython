{
 "cells": [
  {
   "cell_type": "code",
   "execution_count": null,
   "metadata": {},
   "outputs": [],
   "source": [
    "x = 10 (int)\n",
    "name = \"John\" (str)\n",
    "pi = 3.14 (float)\n",
    "is_true = True (bool)"
   ]
  },
  {
   "cell_type": "code",
   "execution_count": null,
   "metadata": {},
   "outputs": [],
   "source": [
    "#리스트 (list): [1, 2, 3], ['apple', 'banana', 'cherry'] (순서 O, 중복 O, 변경 O)\n",
    "#튜플 (tuple): (1, 2, 3), ('apple', 'banana', 'cherry') (순서 O, 중복 O, 변경 X)\n",
    "#딕셔너리 (dictionary): {'name': 'Alice', 'age': 30} (순서 X, 키 중복 X, 변경 O)\n",
    "#세트 (set): {1, 2, 3}, {'apple', 'banana', 'cherry'} (순서 X, 중복 X, 변경 O)"
   ]
  },
  {
   "cell_type": "code",
   "execution_count": 1,
   "metadata": {},
   "outputs": [
    {
     "name": "stdout",
     "output_type": "stream",
     "text": [
      "성인입니다.\n"
     ]
    }
   ],
   "source": [
    "#제어문(Control Flow)\n",
    "age = int(input())\n",
    "\n",
    "if age >= 18:\n",
    "    print(\"성인입니다.\")\n",
    "else:\n",
    "    print(\"미성년자입니다.\")"
   ]
  },
  {
   "cell_type": "code",
   "execution_count": 10,
   "metadata": {},
   "outputs": [
    {
     "name": "stdout",
     "output_type": "stream",
     "text": [
      "apple banana cherry "
     ]
    }
   ],
   "source": [
    "fruits = ['apple', 'banana', 'cherry']\n",
    "for fruit in fruits:\n",
    "    print(fruit, end=' ')\n"
   ]
  },
  {
   "cell_type": "code",
   "execution_count": 11,
   "metadata": {},
   "outputs": [
    {
     "name": "stdout",
     "output_type": "stream",
     "text": [
      "0 1 2 3 4 "
     ]
    }
   ],
   "source": [
    "i = 0\n",
    "while i < 5:\n",
    "    print(i, end=' ')\n",
    "    i += 1"
   ]
  },
  {
   "cell_type": "code",
   "execution_count": 13,
   "metadata": {},
   "outputs": [
    {
     "name": "stdout",
     "output_type": "stream",
     "text": [
      "hello, Bob!\n"
     ]
    }
   ],
   "source": [
    "#함수(function)\n",
    "def greet(name):\n",
    "    print(\"hello, \" + name + \"!\")\n",
    "\n",
    "greet(\"Bob\")"
   ]
  },
  {
   "cell_type": "code",
   "execution_count": 21,
   "metadata": {},
   "outputs": [
    {
     "name": "stdout",
     "output_type": "stream",
     "text": [
      "hello, Bob24!\n"
     ]
    }
   ],
   "source": [
    "#활용\n",
    "def greet(name, age):\n",
    "    name = str(name)\n",
    "    age = int(age)\n",
    "    print(f\"hello, {name}{age}!\")\n",
    "\n",
    "greet(\"Bob\", 24)"
   ]
  },
  {
   "cell_type": "code",
   "execution_count": 22,
   "metadata": {},
   "outputs": [
    {
     "name": "stdout",
     "output_type": "stream",
     "text": [
      "8\n"
     ]
    }
   ],
   "source": [
    "def add(x,y):\n",
    "    return x + y\n",
    "\n",
    "result = add(3, 5)\n",
    "print(result)"
   ]
  },
  {
   "cell_type": "code",
   "execution_count": 24,
   "metadata": {},
   "outputs": [
    {
     "name": "stdout",
     "output_type": "stream",
     "text": [
      "10\n"
     ]
    }
   ],
   "source": [
    "num1 = int(input())\n",
    "num2 = int(input())\n",
    "\n",
    "def add(num1, num2):\n",
    "    return num1 + num2\n",
    "\n",
    "result = add(num1, num2)\n",
    "print(result)\n",
    "\n",
    "#print(int(input()) + int(input())) 한줄로 표현도 가능"
   ]
  },
  {
   "cell_type": "code",
   "execution_count": 25,
   "metadata": {},
   "outputs": [
    {
     "name": "stdout",
     "output_type": "stream",
     "text": [
      "Buddy\n",
      "Woof!\n"
     ]
    }
   ],
   "source": [
    "#클래스(Classes)\n",
    "#데이터(속성)와 기능을 묶어놓은 것(메서드)\n",
    "\n",
    "class dog:\n",
    "    def __init__(self, name, breed):\n",
    "        self.name = name\n",
    "        self.breed = breed\n",
    "        print(f\"{self.name} is a {self.breed} dog.\")\n",
    "\n",
    "    def bark(self):\n",
    "        print(\"woof!\")\n",
    "\n",
    "my_dog = dog(\"Buddy\", \"Golden Retriever\")"
   ]
  },
  {
   "cell_type": "code",
   "execution_count": 33,
   "metadata": {},
   "outputs": [
    {
     "name": "stdout",
     "output_type": "stream",
     "text": [
      "Buddy Golden Retriever\n",
      "woof!\n"
     ]
    }
   ],
   "source": [
    "class dog:\n",
    "    def __init__(self, name, breed):\n",
    "        self.name = name\n",
    "        self.breed = breed\n",
    "\n",
    "    def bark(self):\n",
    "        print(\"woof!\")\n",
    "\n",
    "my_dog = dog(\"Buddy\", \"Golden Retriever\")\n",
    "print(my_dog.name, my_dog.breed)\n",
    "my_dog.bark()"
   ]
  },
  {
   "cell_type": "code",
   "execution_count": 2,
   "metadata": {},
   "outputs": [
    {
     "name": "stdout",
     "output_type": "stream",
     "text": [
      "[1 2 3 4 5]\n",
      "0 1 2 3 4 "
     ]
    }
   ],
   "source": [
    "import numpy as np\n",
    "\n",
    "arr = np.array([1, 2, 3, 4, 5])\n",
    "print(arr)\n",
    "\n",
    "i = 0\n",
    "for i in range(5):\n",
    "    i <= 5\n",
    "    print(i, end=' ')"
   ]
  },
  {
   "cell_type": "code",
   "execution_count": 54,
   "metadata": {},
   "outputs": [
    {
     "name": "stdout",
     "output_type": "stream",
     "text": [
      "[1 2 3 4 5]\n",
      "[0. 0. 0. 0. 0.]\n",
      "[[1. 1. 1.]\n",
      " [1. 1. 1.]]\n",
      "[1 2 3 4 5 6 7 8]\n",
      "[ 1.   3.2  5.4  7.6  9.8 12. ]\n",
      "[[1. 0. 0.]\n",
      " [0. 1. 0.]\n",
      " [0. 0. 1.]]\n",
      "[[1]\n",
      " [2]\n",
      " [3]\n",
      " [4]\n",
      " [5]]\n",
      "15\n",
      "3.0\n",
      "[ 1  2  3  4  5  6  7  8  9 10]\n",
      "[[0.54168862 0.80455204 0.82087855]\n",
      " [0.47619579 0.55084975 0.3260969 ]]\n"
     ]
    }
   ],
   "source": [
    "#numpy 라이브러리\n",
    "import numpy as np\n",
    "\n",
    "#배열\n",
    "arr = np.array([1, 2, 3, 4, 5])\n",
    "print(arr)\n",
    "\n",
    "#0으로 채우기\n",
    "brr = np.zeros(5)\n",
    "print(brr)\n",
    "\n",
    "#1로 채우기, 2행 3열\n",
    "crr = np.ones((2,3))\n",
    "print(crr)\n",
    "\n",
    "#1-9전까지의 정수로 채우기\n",
    "drr = np.arange(1,9)\n",
    "print(drr)\n",
    "\n",
    "#1-12를 6으로 나누기\n",
    "err = np.linspace(1,12,6)\n",
    "print(err)\n",
    "\n",
    "#단위 행렬\n",
    "frr = np.eye(3)\n",
    "print(frr)\n",
    "\n",
    "#배열 차원 바꾸기 (1차원에서 2차원으로)\n",
    "reshaped = arr.reshape(5,1)\n",
    "print(reshaped)\n",
    "\n",
    "#배열의 합 구하기\n",
    "print(np.sum(arr))\n",
    "\n",
    "#배열의 평균구하기(소수점)\n",
    "print(np.mean(arr))\n",
    "\n",
    "#배열 이어붙이기\n",
    "a = np.array([1,2,3,4,5])\n",
    "b = np.array([6,7,8,9,10])\n",
    "combined = np.concatenate((a, b))\n",
    "print(combined)\n",
    "\n",
    "#2행 3열로 랜덤 배열 생성\n",
    "c = np.random.rand(2,3)\n",
    "print(c)"
   ]
  },
  {
   "cell_type": "code",
   "execution_count": 63,
   "metadata": {},
   "outputs": [
    {
     "name": "stdout",
     "output_type": "stream",
     "text": [
      "[1 2 3 4 5]\n",
      "[ 2  4  6  8 10]\n",
      "3.000\n"
     ]
    }
   ],
   "source": [
    "import numpy as np \n",
    "\n",
    "arr = np.array([1, 2, 3, 4, 5])\n",
    "print(arr)\n",
    "\n",
    "#배열 연산\n",
    "arr2 = arr * 2 #배수 표기\n",
    "print(arr2)\n",
    "\n",
    "#소수점 3자리까지 표기/ 통계 함수\n",
    "mean_value = np.mean(arr)\n",
    "print(f\"{mean_value:.3f}\")"
   ]
  },
  {
   "cell_type": "code",
   "execution_count": null,
   "metadata": {},
   "outputs": [],
   "source": [
    "#첫 번째 줄은 최소 칼로리\n",
    "#두 번째 줄은 최대 칼로리\n",
    "#세 번째 줄은 총 칼로리\n",
    "#네 번째 줄은 평균 칼로리를 출력합니다.\n",
    "#(단, 평균 칼로리는 소수점 둘째 자리까지 출력합니다.)\n",
    "\n",
    "date = np.array([\"월\", 1950], [\"화\", 2350], [\"수\", 1850], [\"목\", 2200], [\"금\", 3800], [\"토\", 2800], [\"일\", 2000])\n",
    "\n",
    "cal = (num[1] for num in date)\n",
    "\n",
    "min_cal = min(cal)\n",
    "max_cal = max(cal)\n",
    "total_cal = sum(cal)\n",
    "mean_cal = np.mean(cal)"
   ]
  },
  {
   "cell_type": "code",
   "execution_count": 59,
   "metadata": {},
   "outputs": [
    {
     "name": "stdout",
     "output_type": "stream",
     "text": [
      "1850\n",
      "3800\n",
      "16950\n",
      "2421.43\n"
     ]
    }
   ],
   "source": [
    "#리스트 형식으로 변환값 계산하기\n",
    "data = [\n",
    "    [\"월\", 1950],\n",
    "    [\"화\", 2350],\n",
    "    [\"수\", 1850],\n",
    "    [\"목\", 2200],\n",
    "    [\"금\", 3800],\n",
    "    [\"토\", 2800],\n",
    "    [\"일\", 2000]\n",
    "]\n",
    "\n",
    "# 칼로리 값만 추출\n",
    "calories = [item[1] for item in data]\n",
    "\n",
    "# 최소, 최대, 총합, 평균 계산\n",
    "min_cal = min(calories)\n",
    "max_cal = max(calories)\n",
    "total_cal = sum(calories)\n",
    "avg_cal = total_cal / len(calories)\n",
    "\n",
    "# 출력\n",
    "print(min_cal)\n",
    "print(max_cal)\n",
    "print(total_cal)\n",
    "print(f\"{avg_cal:.2f}\")"
   ]
  },
  {
   "cell_type": "code",
   "execution_count": 58,
   "metadata": {},
   "outputs": [
    {
     "name": "stdout",
     "output_type": "stream",
     "text": [
      "1850\n",
      "3800\n",
      "16950\n",
      "2421.43\n"
     ]
    }
   ],
   "source": [
    "#numpy 라이브러리 활용\n",
    "import numpy as np\n",
    "\n",
    "date = np.array([1950, 2350, 1850, 2200, 3800, 2800, 2000])\n",
    "\n",
    "min_cal = np.min(date)\n",
    "max_cal = np.max(date)  \n",
    "total_cal = np.sum(date)    \n",
    "mean_cal = np.mean(date)\n",
    "\n",
    "print(min_cal)\n",
    "print(max_cal)\n",
    "print(total_cal)\n",
    "print(f\"{mean_cal:.2f}\")"
   ]
  }
 ],
 "metadata": {
  "kernelspec": {
   "display_name": ".venv",
   "language": "python",
   "name": "python3"
  },
  "language_info": {
   "codemirror_mode": {
    "name": "ipython",
    "version": 3
   },
   "file_extension": ".py",
   "mimetype": "text/x-python",
   "name": "python",
   "nbconvert_exporter": "python",
   "pygments_lexer": "ipython3",
   "version": "3.13.0"
  }
 },
 "nbformat": 4,
 "nbformat_minor": 2
}
