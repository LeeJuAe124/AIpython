{
 "cells": [
  {
   "cell_type": "code",
   "execution_count": 7,
   "metadata": {},
   "outputs": [
    {
     "name": "stdout",
     "output_type": "stream",
     "text": [
      "1부터 3까지의 합은: 6입니다.\n"
     ]
    }
   ],
   "source": [
    "#문제 1: 1부터 N까지의 합 계산하기\n",
    "\n",
    "n = int(input())\n",
    "\n",
    "if n <= 0:\n",
    "    print()\n",
    "else: \n",
    "    total = 0\n",
    "    for i in range(1, n + 1):\n",
    "        total += i\n",
    "    print(f\"1부터 {n}까지의 합은: {total}입니다.\")"
   ]
  },
  {
   "cell_type": "code",
   "execution_count": 5,
   "metadata": {},
   "outputs": [
    {
     "name": "stdout",
     "output_type": "stream",
     "text": [
      "3 * 1 = 3\n",
      "3 * 2 = 6\n",
      "3 * 3 = 9\n",
      "3 * 4 = 12\n",
      "3 * 5 = 15\n",
      "3 * 6 = 18\n",
      "3 * 7 = 21\n",
      "3 * 8 = 24\n",
      "3 * 9 = 27\n"
     ]
    }
   ],
   "source": [
    "#문제 2: 구구단 출력하기 (특정 단)\n",
    "\n",
    "dan = int(input())\n",
    "\n",
    "if 2 <= dan <= 9:\n",
    "    for i in range(1,10):\n",
    "        #range : 시작값부터 끝값-1까지, 즉 1-9를 의미\n",
    "        #range[10] : 0-10\n",
    "        result = dan * i\n",
    "        print(f\"{dan} * {i} = {result}\")\n",
    "else: \n",
    "    print(\"다시\")"
   ]
  },
  {
   "cell_type": "code",
   "execution_count": 11,
   "metadata": {},
   "outputs": [
    {
     "name": "stdout",
     "output_type": "stream",
     "text": [
      "1\n",
      "2\n",
      "3\n",
      "4\n",
      "5\n"
     ]
    }
   ],
   "source": [
    "#문제 3: 리스트의 모든 요소 출력하기\n",
    "\n",
    "numbers = [1,2,3,4,5]\n",
    "\n",
    "for num in numbers:\n",
    "    print(num)"
   ]
  },
  {
   "cell_type": "code",
   "execution_count": 12,
   "metadata": {},
   "outputs": [
    {
     "name": "stdout",
     "output_type": "stream",
     "text": [
      "0\n",
      "1\n",
      "2\n",
      "3\n",
      "4\n",
      "5\n",
      "6\n",
      "7\n",
      "8\n",
      "9\n",
      "while 루프 종료\n"
     ]
    }
   ],
   "source": [
    "#문제 4: 특정 조건까지 반복하기 (while 루프)\n",
    "\n",
    "count = 0\n",
    "while count < 10:\n",
    "    print(count)\n",
    "    count += 1\n",
    "print(\"while 루프 종료\")"
   ]
  },
  {
   "cell_type": "code",
   "execution_count": 14,
   "metadata": {},
   "outputs": [
    {
     "name": "stdout",
     "output_type": "stream",
     "text": [
      "입력: d\n",
      "종료\n"
     ]
    }
   ],
   "source": [
    "#문제 5: 사용자로부터 'exit'가 입력될 때까지 반복하기\n",
    "\n",
    "while True:\n",
    "    user_input = input()\n",
    "    if user_input.lower() == 'exit':\n",
    "        print(\"종료\")\n",
    "        break\n",
    "    else:\n",
    "        print(f\"입력: {user_input}\")"
   ]
  },
  {
   "cell_type": "code",
   "execution_count": 17,
   "metadata": {},
   "outputs": [
    {
     "name": "stdout",
     "output_type": "stream",
     "text": [
      "다시: f\n",
      "종료\n"
     ]
    }
   ],
   "source": [
    "#비슷한 예제 1: \"bye\"를 입력할 때까지 계속 인사하기\n",
    "\n",
    "while True:\n",
    "    user_input = input()\n",
    "    if user_input.lower() == 'bye':\n",
    "        print(\"종료\")\n",
    "        break\n",
    "    else:\n",
    "        print(f\"다시: {user_input}\")"
   ]
  },
  {
   "cell_type": "code",
   "execution_count": 18,
   "metadata": {},
   "outputs": [
    {
     "name": "stdout",
     "output_type": "stream",
     "text": [
      "다시: 88\n",
      "종료\n"
     ]
    }
   ],
   "source": [
    "#비슷한 예제 2: 숫자를 입력받고, 0이면 종료\n",
    "\n",
    "while True:\n",
    "    user_input = int(input())\n",
    "    if user_input == 0:\n",
    "        print(\"종료\")\n",
    "        break\n",
    "    else: \n",
    "        print(f\"다시: {user_input}\")"
   ]
  },
  {
   "cell_type": "code",
   "execution_count": 19,
   "metadata": {},
   "outputs": [
    {
     "name": "stdout",
     "output_type": "stream",
     "text": [
      "다시: sd\n",
      "다시: fds\n",
      "종료\n"
     ]
    }
   ],
   "source": [
    "#비슷한 예제 3: 비밀번호 맞을 때까지 반복\n",
    "\n",
    "while True:\n",
    "    user_input = input()\n",
    "    if user_input.lower() == \"hello123\":\n",
    "        print(\"종료\")\n",
    "        break\n",
    "    else:\n",
    "        print(f\"다시: {user_input}\")"
   ]
  },
  {
   "cell_type": "code",
   "execution_count": 21,
   "metadata": {},
   "outputs": [
    {
     "name": "stdout",
     "output_type": "stream",
     "text": [
      "다시: dfs\n",
      "종료\n"
     ]
    }
   ],
   "source": [
    "password = \"hello123\"\n",
    "\n",
    "while True:\n",
    "    user_input = input()\n",
    "    if user_input == password:\n",
    "        print(\"종료\")\n",
    "        break\n",
    "    else:\n",
    "        print(f\"다시: {user_input}\")"
   ]
  }
 ],
 "metadata": {
  "kernelspec": {
   "display_name": "Python 3",
   "language": "python",
   "name": "python3"
  },
  "language_info": {
   "codemirror_mode": {
    "name": "ipython",
    "version": 3
   },
   "file_extension": ".py",
   "mimetype": "text/x-python",
   "name": "python",
   "nbconvert_exporter": "python",
   "pygments_lexer": "ipython3",
   "version": "3.13.0"
  }
 },
 "nbformat": 4,
 "nbformat_minor": 2
}
