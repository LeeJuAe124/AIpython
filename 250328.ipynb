{
  "nbformat": 4,
  "nbformat_minor": 0,
  "metadata": {
    "colab": {
      "provenance": [],
      "authorship_tag": "ABX9TyMDe0JaY31WURAmuI+TOyiV",
      "include_colab_link": true
    },
    "kernelspec": {
      "name": "python3",
      "display_name": "Python 3"
    },
    "language_info": {
      "name": "python"
    }
  },
  "cells": [
    {
      "cell_type": "markdown",
      "metadata": {
        "id": "view-in-github",
        "colab_type": "text"
      },
      "source": [
        "<a href=\"https://colab.research.google.com/github/LeeJuAe124/AIpython/blob/main/250328.ipynb\" target=\"_parent\"><img src=\"https://colab.research.google.com/assets/colab-badge.svg\" alt=\"Open In Colab\"/></a>"
      ]
    },
    {
      "cell_type": "code",
      "execution_count": 3,
      "metadata": {
        "colab": {
          "base_uri": "https://localhost:8080/"
        },
        "id": "GVkE-UReXeai",
        "outputId": "951382cd-8682-4cb0-bd73-c60f7030bdad"
      },
      "outputs": [
        {
          "output_type": "stream",
          "name": "stdout",
          "text": [
            "첫 번째 정수를 입력하세요: 3\n",
            "두 번째 정수를 입력하세요: 2\n",
            "3은(는) 2보다 큽니다.\n"
          ]
        }
      ],
      "source": [
        "num1 = num1_str = int(input(\"첫 번째 정수를 입력하세요: \"))\n",
        "num2 = num2_str = int(input(\"두 번째 정수를 입력하세요: \"))\n",
        "\n",
        "if num1 > num2:\n",
        "  print(f\"{num1}은(는) {num2}보다 큽니다.\")\n",
        "elif num1 < num2:\n",
        "  print(f\"{num1}은(는) {num2}보다 작습니다.\")\n",
        "else:\n",
        "  print(f\"{num1}은(는) {num2}와 같습니다.\")"
      ]
    },
    {
      "cell_type": "code",
      "source": [
        "num1 = num1_str = int(input(\"첫 번째 정수를 입력하세요: \"))\n",
        "print(f\"첫번째 수: {num1}\")\n",
        "num2 = num2_str = int(input(\"두 번째 정수를 입력하세요: \"))\n",
        "print(f\"두번째 수: {num2}\")\n",
        "num3 = num3_str = int(input(\"세 번째 정수를 입력하세요: \"))\n",
        "print(f\"세번째 수: {num3}\")\n",
        "\n",
        "max_num = num1\n",
        "\n",
        "if num2 > max_num:\n",
        "  print(f\"{num2}가 {max_num}보다 큽니다.최댓값을 업데이트합니다. \")\n",
        "\n",
        "  max_num = num2\n",
        "\n",
        "else:\n",
        "  print(f\"{num2}가 {max_num}보다 크지않습니다. \")\n",
        "\n",
        "if num3 > max_num:\n",
        "  print(f\"{num3}가 {max_num}보다 큽니다. 최댓값을 업데이트합니다. \")\n",
        "\n",
        "  max_num = num3\n",
        "\n",
        "else:\n",
        "  print(f\"{num3}가 {max_num}보다 크지않습니다. \")\n",
        "\n",
        "print(f\"\\n입력하신 세 수 중에서 가장 큰 수는 {max_num}입니다. \")"
      ],
      "metadata": {
        "colab": {
          "base_uri": "https://localhost:8080/"
        },
        "id": "ogad2vAwXgf3",
        "outputId": "0124d4af-b562-4030-94e7-7e9b730edf21"
      },
      "execution_count": 6,
      "outputs": [
        {
          "output_type": "stream",
          "name": "stdout",
          "text": [
            "첫 번째 정수를 입력하세요: 4\n",
            "첫번째 수: 4\n",
            "두 번째 정수를 입력하세요: 3\n",
            "두번째 수: 3\n",
            "세 번째 정수를 입력하세요: 2\n",
            "세번째 수: 2\n",
            "3가 4보다 크지않습니다. \n",
            "2가 4보다 크지않습니다. \n",
            "\n",
            "입력하신 세 수 중에서 가장 큰 수는 4입니다. \n"
          ]
        }
      ]
    },
    {
      "cell_type": "code",
      "source": [
        "num1 = int(input(\"첫 번째 정수를 입력하세요: \"))\n",
        "num2 = int(input(\"두 번째 정수를 입력하세요: \"))\n",
        "num3 = int(input(\"세 번째 정수를 입력하세요: \"))\n",
        "\n",
        "max_num = num1\n",
        "\n",
        "if num2 > max_num:\n",
        "  max_num = num2\n",
        "  #조건이 참이면 업데이트 시켜줘야함\n",
        "\n",
        "if num3 > max_num:\n",
        "  max_num = num3\n",
        "\n",
        "print(f\"\\n가장 큰 수는 {max_num}\")"
      ],
      "metadata": {
        "colab": {
          "base_uri": "https://localhost:8080/"
        },
        "id": "9CeI33ogah7k",
        "outputId": "882e4782-f5e1-4992-9c92-7838930ca81f"
      },
      "execution_count": 9,
      "outputs": [
        {
          "output_type": "stream",
          "name": "stdout",
          "text": [
            "첫 번째 정수를 입력하세요: 1213\n",
            "두 번째 정수를 입력하세요: 93482\n",
            "세 번째 정수를 입력하세요: 3248\n",
            "\n",
            "가장 큰 수는 93482\n"
          ]
        }
      ]
    },
    {
      "cell_type": "code",
      "source": [
        "num1 = int(input(\"첫 번째 정수를 입력하세요: \"))\n",
        "num2 = int(input(\"두 번째 정수를 입력하세요: \"))\n",
        "num3 = int(input(\"세 번째 정수를 입력하세요: \"))\n",
        "num4 = int(input(\"네 번째 정수를 입력하세요: \"))\n",
        "\n",
        "max_num = num1\n",
        "\n",
        "if num2 > max_num:\n",
        "  max_num = num2\n",
        "\n",
        "if num3 > max_num:\n",
        "  max_num = num3\n",
        "\n",
        "if num4 > max_num:\n",
        "  max_num = num4\n",
        "print(f\"\\n가장 큰 수는 {max_num}\")"
      ],
      "metadata": {
        "colab": {
          "base_uri": "https://localhost:8080/"
        },
        "id": "lgVaWUa5b0c4",
        "outputId": "2a2ee60e-0074-43ac-d8fc-01368c85dd56"
      },
      "execution_count": 10,
      "outputs": [
        {
          "output_type": "stream",
          "name": "stdout",
          "text": [
            "첫 번째 정수를 입력하세요: 39847\n",
            "두 번째 정수를 입력하세요: 293\n",
            "세 번째 정수를 입력하세요: 4928\n",
            "네 번째 정수를 입력하세요: 592839\n",
            "\n",
            "가장 큰 수는 592839\n"
          ]
        }
      ]
    },
    {
      "cell_type": "code",
      "source": [
        "score = int(input(\"점수 입력(0~100)\"))\n",
        "\n",
        "if 0 <= score <= 100:\n",
        "  if score >= 90:\n",
        "    grade = 'A'\n",
        "\n",
        "  elif score >= 80:\n",
        "    grade = 'B'\n",
        "\n",
        "  elif score >= 70:\n",
        "   grade = 'C'\n",
        "\n",
        "  elif score >= 60:\n",
        "    grade = 'D'\n",
        "\n",
        "  else:\n",
        "   grade = 'F'\n",
        "\n",
        "  print(f\"님 학점{grade}임\")"
      ],
      "metadata": {
        "colab": {
          "base_uri": "https://localhost:8080/"
        },
        "id": "zr0Jn1-bcHp9",
        "outputId": "b24b0e43-8736-410a-c2d0-8a8fe72f1c36"
      },
      "execution_count": 33,
      "outputs": [
        {
          "output_type": "stream",
          "name": "stdout",
          "text": [
            "점수 입력(0~100)78\n",
            "님 학점C임\n"
          ]
        }
      ]
    },
    {
      "cell_type": "code",
      "source": [
        "year = int(input())\n",
        "\n",
        "if (year % 4 == 0 and year % 100 != 0) or (year % 400 == 0):\n",
        "  print(f\"{year}년은 윤년입니다.\")\n",
        "else:\n",
        "  print(f\"{year}년은 윤년이 아닙니다. \")"
      ],
      "metadata": {
        "colab": {
          "base_uri": "https://localhost:8080/"
        },
        "id": "EsjOcv3SfWUm",
        "outputId": "f0737622-b206-4e8c-ed2d-99bb5f9e540f"
      },
      "execution_count": 39,
      "outputs": [
        {
          "output_type": "stream",
          "name": "stdout",
          "text": [
            "4932\n",
            "4932년은 윤년입니다.\n"
          ]
        }
      ]
    },
    {
      "cell_type": "code",
      "source": [
        "for i in range(6):\n",
        "  print(i)"
      ],
      "metadata": {
        "colab": {
          "base_uri": "https://localhost:8080/"
        },
        "id": "ZZwwrwlBldtS",
        "outputId": "d0a29b42-ae05-4d42-a24b-a80262dbef10"
      },
      "execution_count": 56,
      "outputs": [
        {
          "output_type": "stream",
          "name": "stdout",
          "text": [
            "0\n",
            "1\n",
            "2\n",
            "3\n",
            "4\n",
            "5\n"
          ]
        }
      ]
    },
    {
      "cell_type": "code",
      "source": [
        "for i in range(1,6):\n",
        "  print(i)"
      ],
      "metadata": {
        "colab": {
          "base_uri": "https://localhost:8080/"
        },
        "id": "iGTORf5xjoTH",
        "outputId": "2c4ff349-52d0-4d12-bec2-788485bc367b"
      },
      "execution_count": 55,
      "outputs": [
        {
          "output_type": "stream",
          "name": "stdout",
          "text": [
            "1\n",
            "2\n",
            "3\n",
            "4\n",
            "5\n"
          ]
        }
      ]
    },
    {
      "cell_type": "code",
      "source": [
        "print(\"0부터 9까지 출력\")\n",
        "for i in range(10):\n",
        "  print(i)\n",
        "print(\"for 루프 종료\")"
      ],
      "metadata": {
        "colab": {
          "base_uri": "https://localhost:8080/"
        },
        "id": "SRFIU-eftJ5r",
        "outputId": "ad3b351c-0aae-417f-dcac-716583a39166"
      },
      "execution_count": 77,
      "outputs": [
        {
          "output_type": "stream",
          "name": "stdout",
          "text": [
            "0부터 9까지 출력\n",
            "0\n",
            "1\n",
            "2\n",
            "3\n",
            "4\n",
            "5\n",
            "6\n",
            "7\n",
            "8\n",
            "9\n",
            "for 루프 종료\n"
          ]
        }
      ]
    },
    {
      "cell_type": "code",
      "source": [
        "count = 0\n",
        "\n",
        "while count < 3:\n",
        "  print(count)\n",
        "  count += 1 # 하나씩 증가"
      ],
      "metadata": {
        "colab": {
          "base_uri": "https://localhost:8080/"
        },
        "id": "YkVqDODWnSh1",
        "outputId": "ee70f41c-afab-4f7e-b7f1-120fa97af342"
      },
      "execution_count": 74,
      "outputs": [
        {
          "output_type": "stream",
          "name": "stdout",
          "text": [
            "0\n",
            "1\n",
            "2\n"
          ]
        }
      ]
    },
    {
      "cell_type": "code",
      "source": [
        "n = int(input())\n",
        "\n",
        "if n <= 0:\n",
        "  print(f\"n은 양의 정수여야함\")\n",
        "else:\n",
        "  total = 0\n",
        "  for i in range(1,n+1):\n",
        "    total += i\n",
        "  print(f\"1부터 {n}까지의 합은: {total} 입니다.\")"
      ],
      "metadata": {
        "colab": {
          "base_uri": "https://localhost:8080/"
        },
        "id": "Rr4CUnl9ovj5",
        "outputId": "10caf2f8-866e-413d-dc3c-6ece9ad55387"
      },
      "execution_count": 67,
      "outputs": [
        {
          "output_type": "stream",
          "name": "stdout",
          "text": [
            "43\n",
            "1부터 43까지의 합은: 946 입니다.\n"
          ]
        }
      ]
    },
    {
      "cell_type": "code",
      "source": [
        "count = 0\n",
        "while count < 10:\n",
        "  print(count)\n",
        "  count += 1"
      ],
      "metadata": {
        "colab": {
          "base_uri": "https://localhost:8080/"
        },
        "id": "BoqF9ud4pQUX",
        "outputId": "f84c19fb-23f1-45f0-85f8-005c4afebf82"
      },
      "execution_count": 76,
      "outputs": [
        {
          "output_type": "stream",
          "name": "stdout",
          "text": [
            "0\n",
            "1\n",
            "2\n",
            "3\n",
            "4\n",
            "5\n",
            "6\n",
            "7\n",
            "8\n",
            "9\n"
          ]
        }
      ]
    }
  ]
}