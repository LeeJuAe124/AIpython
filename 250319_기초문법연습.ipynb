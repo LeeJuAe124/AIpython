{
  "nbformat": 4,
  "nbformat_minor": 0,
  "metadata": {
    "colab": {
      "provenance": [],
      "include_colab_link": true
    },
    "kernelspec": {
      "name": "python3",
      "display_name": "Python 3"
    },
    "language_info": {
      "name": "python"
    }
  },
  "cells": [
    {
      "cell_type": "markdown",
      "metadata": {
        "id": "view-in-github",
        "colab_type": "text"
      },
      "source": [
        "<a href=\"https://colab.research.google.com/github/LeeJuAe124/AIpython/blob/main/250319_%EA%B8%B0%EC%B4%88%EB%AC%B8%EB%B2%95%EC%97%B0%EC%8A%B5.ipynb\" target=\"_parent\"><img src=\"https://colab.research.google.com/assets/colab-badge.svg\" alt=\"Open In Colab\"/></a>"
      ]
    },
    {
      "cell_type": "code",
      "execution_count": null,
      "metadata": {
        "colab": {
          "base_uri": "https://localhost:8080/"
        },
        "id": "Cuwu-dsvdINI",
        "outputId": "80dc44e9-b64e-477f-96ef-98b8d57a8593"
      },
      "outputs": [
        {
          "output_type": "execute_result",
          "data": {
            "text/plain": [
              "1"
            ]
          },
          "metadata": {},
          "execution_count": 1
        }
      ],
      "source":
    {
      "cell_type": "code",
      "source": [
        "time = 100\n",
        "\n",
        "hours = time // 60\n",
        "minutes = time % 60\n",
        "\n",
        "print(f\"{time}분은 {hours}시간 {minutes}분입니다.\")"
      ],
      "metadata": {
        "colab": {
          "base_uri": "https://localhost:8080/"
        },
        "id": "qiK4OlNldXPm",
        "outputId": "4f17bc58-67ba-4694-ac01-c0c78b3b9067"
      },
      "execution_count": null,
      "outputs": [
        {
          "output_type": "stream",
          "name": "stdout",
          "text": [
            "100분은 1시간 40분입니다.\n"
          ]
        }
      ]
    },
    {
      "cell_type": "code",
      "source": [
        "name = input(\"당신의 이름은 무엇인가요?\")\n",
        "print(name + \"님, 만나서 반갑습니다!\")"
      ],
      "metadata": {
        "id": "lDchbY1HM1Nb",
        "outputId": "cb095ce0-a286-4f18-ebd8-623725d45e01",
        "colab": {
          "base_uri": "https://localhost:8080/"
        }
      },
      "execution_count": null,
      "outputs": [
        {
          "output_type": "stream",
          "name": "stdout",
          "text": [
            "당신의 이름은 무엇인가요?주애\n",
            "주애님, 만나서 반갑습니다!\n"
          ]
        }
      ]
    },
    {
      "cell_type": "code",
      "source": [
        "age = input(\"나이를 입력하세요\") #age는 문자열\n",
        "age = int(age) #숫자로 변경\n",
        "print(\"당신의 나이는 내년에\", age + 1, \"살입니다.\")"
      ],
      "metadata": {
        "id": "d6IQdnmjPg6y",
        "outputId": "4a58f860-6079-49ca-80ba-e15717f1f8a6",
        "colab": {
          "base_uri": "https://localhost:8080/"
        }
      },
      "execution_count": null,
      "outputs": [
        {
          "output_type": "stream",
          "name": "stdout",
          "text": [
            "나이를 입력하세요24\n",
            "당신의 나이는 내년에 25 살입니다.\n"
          ]
        }
      ]
    },
    {
      "cell_type": "code",
      "source": [
        "score = input(\"점수를 입력하세요\")\n",
        "score = int(score)\n",
        "\n",
        "if score >= 90:\n",
        "    print(\"정말 잘했어요!\")\n",
        "elif score >= 60:\n",
        "    print(\"좋아요! 합격입니다!\")\n",
        "else:\n",
        "    print(\"다음에 더 잘해봐요!\")\n"
      ],
      "metadata": {
        "colab": {
          "base_uri": "https://localhost:8080/"
        },
        "id": "2i30dMiyQIFD",
        "outputId": "f966a743-4064-455a-d9d0-d6043fd186cb"
      },
      "execution_count": null,
      "outputs": [
        {
          "output_type": "stream",
          "name": "stdout",
          "text": [
            "점수를 입력하세요90\n",
            "정말 잘했어요!\n"
          ]
        }
      ]
    },
    {
      "cell_type": "code",
      "source": [
        "for i in range(1,10,2): #for 조건이 정해졌을 때 반복문\n",
        "  print(i)"
      ],
      "metadata": {
        "id": "B5KEWQyNSJoI",
        "colab": {
          "base_uri": "https://localhost:8080/"
        },
        "outputId": "3dd0f10d-d1e1-40f2-b3c0-0e00a344ac0f"
      },
      "execution_count": null,
      "outputs": [
        {
          "output_type": "stream",
          "name": "stdout",
          "text": [
            "1\n",
            "3\n",
            "5\n",
            "7\n",
            "9\n"
          ]
        }
      ]
    },
    {
      "cell_type": "code",
      "source": [
        "for i in range(5):\n",
        "  print(\"반복!\",i)"
      ],
      "metadata": {
        "colab": {
          "base_uri": "https://localhost:8080/"
        },
        "id": "gSSDnMex6dVR",
        "outputId": "d4b11ec9-f3d2-435c-87c7-f53b651a5870"
      },
      "execution_count": null,
      "outputs": [
        {
          "output_type": "stream",
          "name": "stdout",
          "text": [
            "반복! 0\n",
            "반복! 1\n",
            "반복! 2\n",
            "반복! 3\n",
            "반복! 4\n"
          ]
        }
      ]
    },
    {
      "cell_type": "code",
      "source": [
        "count = 0\n",
        "while count < 3:\n",
        "  print(\"반복 중:\", count)\n",
        "  count += 1 #하나씩 증가 값인듯"
      ],
      "metadata": {
        "colab": {
          "base_uri": "https://localhost:8080/"
        },
        "id": "gq1yp_0AGqUK",
        "outputId": "b5ccd1dd-750d-4522-f9dc-58b4a8402af5"
      },
      "execution_count": 2,
      "outputs": [
        {
          "output_type": "stream",
          "name": "stdout",
          "text": [
            "반복 중: 0\n",
            "반복 중: 1\n",
            "반복 중: 2\n"
          ]
        }
      ]
    },
    {
      "cell_type": "code",
      "source": [
        "count = 0\n",
        "while count < 3:\n",
        "  print(\"반복 중:\", count)\n",
        "  count += 1 #하나씩 증가 값인듯"
      ],
      "metadata": {
        "colab": {
          "base_uri": "https://localhost:8080/"
        },
        "id": "r7vn_cdBHFqi",
        "outputId": "0cff2198-530c-4257-dd85-ea04b25a389f"
      },
      "execution_count": 7,
      "outputs": [
        {
          "output_type": "stream",
          "name": "stdout",
          "text": [
            "반복 중: 0\n",
            "반복 중: 1\n",
            "반복 중: 2\n"
          ]
        }
      ]
    },
    {
      "cell_type": "code",
      "source": [
        "count = int(input())\n",
        "\n",
        "while count < 10:\n",
        "  print(\"반복 중:\", count)\n",
        "  count += 1 #하나씩 증가 값인듯"
      ],
      "metadata": {
        "colab": {
          "base_uri": "https://localhost:8080/"
        },
        "id": "44riZdTYHFR1",
        "outputId": "34b206a6-f78b-41a7-f23e-34c491b66cf7"
      },
      "execution_count": 9,
      "outputs": [
        {
          "output_type": "stream",
          "name": "stdout",
          "text": [
            "2\n",
            "반복 중: 2\n",
            "반복 중: 3\n",
            "반복 중: 4\n",
            "반복 중: 5\n",
            "반복 중: 6\n",
            "반복 중: 7\n",
            "반복 중: 8\n",
            "반복 중: 9\n"
          ]
        }
      ]
    },
    {
      "cell_type": "code",
      "source": [
        "fruits = [\"사과\",\"딸기\",\"바나나\",\"수박\"]\n",
        "\n",
        "print(fruits[0]) #사과 (첫 번째 데이터)\n",
        "print(fruits[2]) #바나나 (세 번째 데이터)\n",
        "\n",
        "fruits.append(\"오렌지\")\n",
        "print(fruits) #[\"사과\",\"딸기\",\"바나나\",\"오렌지\"]\n",
        "\n",
        "fruits.remove(\"딸기\")\n",
        "fruits.remove(\"바나나\")\n",
        "print(fruits)\n",
        "\n",
        "print(len(fruits))"
      ],
      "metadata": {
        "colab": {
          "base_uri": "https://localhost:8080/"
        },
        "id": "FjQQp2XWIVvV",
        "outputId": "f53b1fd3-55eb-4497-f329-13a158fc5e1f"
      },
      "execution_count": 14,
      "outputs": [
        {
          "output_type": "stream",
          "name": "stdout",
          "text": [
            "사과\n",
            "바나나\n",
            "['사과', '딸기', '바나나', '수박', '오렌지']\n",
            "['사과', '수박', '오렌지']\n",
            "3\n"
          ]
        }
      ]
    },
    {
      "cell_type": "code",
      "source": [
        "fruits = [\"사과\",\"딸기\",\"바나나\",\"수박\"]\n",
        "\n",
        "print([fruit + \"좋아\" for fruit in fruits])\n",
        "\n",
        "fruits.append(\"오렌지\")\n",
        "print(fruits)\n",
        "\n",
        "fruits.remove(\"딸기\")\n",
        "fruits.remove(\"바나나\")\n",
        "print(fruits)\n",
        "\n",
        "print(len(fruits))"
      ],
      "metadata": {
        "colab": {
          "base_uri": "https://localhost:8080/"
        },
        "id": "YnboCEytjofr",
        "outputId": "6bc18d7f-3aa7-4fe8-f844-c9a2777cc3a6"
      },
      "execution_count": 27,
      "outputs": [
        {
          "output_type": "stream",
          "name": "stdout",
          "text": [
            "['사과좋아', '딸기좋아', '바나나좋아', '수박좋아']\n",
            "['사과', '딸기', '바나나', '수박', '오렌지']\n",
            "['사과', '수박', '오렌지']\n",
            "3\n"
          ]
        }
      ]
    },
    {
      "cell_type": "code",
      "source": [
        "fruits = [\"사과\",\"딸기\",\"바나나\",\"수박\"]\n",
        "\n",
        "import random\n",
        "\n",
        "num = random.choice(fruits)\n",
        "print(\"랜덤 과일:\", num)"
      ],
      "metadata": {
        "colab": {
          "base_uri": "https://localhost:8080/"
        },
        "id": "-I-jLLqmsyTq",
        "outputId": "4d14bfeb-ad08-4c66-87ad-d54c44aacea4"
      },
      "execution_count": 31,
      "outputs": [
        {
          "output_type": "stream",
          "name": "stdout",
          "text": [
            "랜덤 과일: 수박\n"
          ]
        }
      ]
    },
    {
      "cell_type": "code",
      "source": [
        "import random\n",
        "\n",
        "num = random.randint(1,100)\n",
        "print(\"랜덤:\",num)"
      ],
      "metadata": {
        "colab": {
          "base_uri": "https://localhost:8080/"
        },
        "id": "uj9At1lHtOxK",
        "outputId": "4f463f64-ea53-4695-d15d-f772b53925df"
      },
      "execution_count": 33,
      "outputs": [
        {
          "output_type": "stream",
          "name": "stdout",
          "text": [
            "랜덤: 51\n"
          ]
        }
      ]
    },
    {
      "cell_type": "code",
      "source": [
        "import random\n",
        "\n",
        "random_numbers = [] #빈 값의 리스트 생성\n",
        "\n",
        "for _ in range(3): #3번 반복\n",
        "  random_number = random.randint(1,100)\n",
        "  random_numbers.append(random_number) #리스트에 추가\n",
        "\n",
        "print(\"랜덤 숫자 3개:\", random_numbers)"
      ],
      "metadata": {
        "colab": {
          "base_uri": "https://localhost:8080/"
        },
        "id": "Ig27sjX9tmSv",
        "outputId": "31a3fe1c-74de-4fd2-b1cf-00b71052dec8"
      },
      "execution_count": 35,
      "outputs": [
        {
          "output_type": "stream",
          "name": "stdout",
          "text": [
            "랜덤 숫자 3개: [74, 82, 15]\n"
          ]
        }
      ]
    }
  ]
}
