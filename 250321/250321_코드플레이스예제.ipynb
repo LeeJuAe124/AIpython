{
  "nbformat": 4,
  "nbformat_minor": 0,
  "metadata": {
    "colab": {
      "provenance": [],
      "authorship_tag": "ABX9TyNxUE/mg8PU4hdZThUSgGKG",
      "include_colab_link": true
    },
    "kernelspec": {
      "name": "python3",
      "display_name": "Python 3"
    },
    "language_info": {
      "name": "python"
    }
  },
  "cells": [
    {
      "cell_type": "markdown",
      "metadata": {
        "id": "view-in-github",
        "colab_type": "text"
      },
      "source": [
        "<a href=\"https://colab.research.google.com/github/LeeJuAe124/AIpython/blob/main/250321_%EC%BD%94%EB%93%9C%ED%94%8C%EB%A0%88%EC%9D%B4%EC%8A%A4%EC%98%88%EC%A0%9C.ipynb\" target=\"_parent\"><img src=\"https://colab.research.google.com/assets/colab-badge.svg\" alt=\"Open In Colab\"/></a>"
      ]
    },
    {
      "cell_type": "code",
      "source": [
        "a, b = map(int, input().split())\n",
        "\n",
        "if a > 3 or b > 3:\n",
        "  print(\"잘못된입력\")\n",
        "elif a == b:\n",
        "  print(\"무승부\")\n",
        "elif (a == 1 and b == 3) or (a == 2 and b == 1) or (a == 3 and b == 2):\n",
        "  print(\"A승B패\")\n",
        "else:\n",
        "  print(\"B승A패\")"
      ],
      "metadata": {
        "colab": {
          "base_uri": "https://localhost:8080/"
        },
        "id": "yMDU0WhNmU3H",
        "outputId": "586dbc5e-8e2a-4331-c402-7037ca2be073"
      },
      "execution_count": 1,
      "outputs": [
        {
          "output_type": "stream",
          "name": "stdout",
          "text": [
            "2 2\n",
            "무승부\n"
          ]
        }
      ]
    },
    {
      "cell_type": "code",
      "source": [
        "num=int(input())\n",
        "if num == 1 and num == 2 and num == 3:\n",
        "  print(True)\n",
        "else:\n",
        "  print(False)"
      ],
      "metadata": {
        "id": "6-p5AoYilWhu"
      },
      "execution_count": null,
      "outputs": []
    },
    {
      "cell_type": "code",
      "source": [
        "num = int(input())\n",
        "if num in [1, 2, 3]:\n",
        "    print(True)\n",
        "else:\n",
        "    print(False)"
      ],
      "metadata": {
        "colab": {
          "base_uri": "https://localhost:8080/"
        },
        "id": "euCufifNmJzx",
        "outputId": "3bfbb316-6704-4f90-901b-43d24d521309"
      },
      "execution_count": null,
      "outputs": [
        {
          "output_type": "stream",
          "name": "stdout",
          "text": [
            "1\n",
            "True\n"
          ]
        }
      ]
    }
  ]
}
