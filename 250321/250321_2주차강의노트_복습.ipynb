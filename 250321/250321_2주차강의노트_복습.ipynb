{
 "cells": [
  {
   "cell_type": "code",
   "execution_count": 2,
   "metadata": {},
   "outputs": [
    {
     "name": "stdout",
     "output_type": "stream",
     "text": [
      "이름:  주애\n",
      "나이:  24\n"
     ]
    }
   ],
   "source": [
    "#2주차 파이썬 입문\n",
    "\n",
    "#split() 매서드: 공백을 기준으로 문자열을 나누어 리스트로 반환\n",
    "name, age = input(\"이름과 나이를 입력하세요: \").split()\n",
    "age = int(age)\n",
    "\n",
    "print(\"이름: \", name)  \n",
    "print(\"나이: \", age)"
   ]
  },
  {
   "cell_type": "code",
   "execution_count": 3,
   "metadata": {},
   "outputs": [
    {
     "name": "stdout",
     "output_type": "stream",
     "text": [
      "7\n"
     ]
    }
   ],
   "source": [
    "#map() 매서드: 리스트의 각 요소에 함수를 적용하여 새로운 리스트를 생성\n",
    "\n",
    "num1, num2 = map(int, input(\"두 개의 숫자를 입력하세요: \").split())\n",
    "\n",
    "print(num1 + num2)"
   ]
  },
  {
   "cell_type": "code",
   "execution_count": 10,
   "metadata": {},
   "outputs": [
    {
     "name": "stdout",
     "output_type": "stream",
     "text": [
      "당신의 나이는 23 세입니다.\n"
     ]
    }
   ],
   "source": [
    "#오류 처리\n",
    "#ValueError: 잘못된 값을 입력했을 때 발생하는 오류/ int(), float() 등으로 변환할 수 없는 값을 입력했을 때 발생\n",
    "#try-except 구문을 사용하여 예외 처리 -> 오류 발생 시 프로그램 중단되지 않게 처리 가능\n",
    "\n",
    "try:\n",
    "    age = int(input(\"나이를 입력하세요: \"))\n",
    "    print(\"당신의 나이는\", age, \"세입니다.\")\n",
    "except ValueError:\n",
    "    print(\"잘못된 입력입니다. 숫자를 입력하세요.\")"
   ]
  },
  {
   "cell_type": "code",
   "execution_count": 3,
   "metadata": {},
   "outputs": [
    {
     "name": "stdout",
     "output_type": "stream",
     "text": [
      "나눗셈 결과:  0.46153846153846156\n",
      "덧셈 결과:  76.0\n",
      "뺄셈 결과:  -28.0\n",
      "곱셈 결과:  1248.0\n",
      "나눗셈 결과:  0.46153846153846156\n"
     ]
    }
   ],
   "source": [
    "#연습문제\n",
    "#1. 사용자로부터 두 개의 숫자를 입력받아 더하기, 빼기, 곱하기, 나누기 연산을 수행하는 프로그램을 작성하세요. \n",
    "#(나눗셈 결과는 소수점까지 출력)\n",
    "\n",
    "num1 = float(input(\"첫 번째 숫자를 입력하세요: \"))\n",
    "num2 = float(input(\"두 번째 숫자를 입력하세요: \"))\n",
    "\n",
    "#덧셈, 뺄셈, 곱셈\n",
    "sum_result = num1 + num2\n",
    "sub_result = num1 - num2\n",
    "mul_result = num1 * num2\n",
    "\n",
    "#나눗셈\n",
    "if num2 != 0:\n",
    "    div_result = num1 / num2\n",
    "    print(\"나눗셈 결과: \", div_result)\n",
    "else:\n",
    "    div_result = \"0으로 나눌 수 없습니다.\"\n",
    "\n",
    "\n",
    "print(\"덧셈 결과: \", sum_result)\n",
    "print(\"뺄셈 결과: \", sub_result)\n",
    "print(\"곱셈 결과: \", mul_result)\n",
    "print(\"나눗셈 결과: \", div_result)"
   ]
  },
  {
   "cell_type": "code",
   "execution_count": 4,
   "metadata": {},
   "outputs": [
    {
     "name": "stdout",
     "output_type": "stream",
     "text": [
      "안녕하세요, 주애님! 당신의 나이는 24세입니다.\n"
     ]
    }
   ],
   "source": [
    "#사용자로부터 이름과 나이를 입력받아 \n",
    "#\"안녕하세요, [이름]님! 당신의 나이는 [나이]세입니다.\" 형식으로 출력하는 프로그램을 작성하세요.\n",
    "\n",
    "name, age = input(\"이름과 나이를 입력하세요: \").split()\n",
    "age = int(age)\n",
    "\n",
    "print(f\"안녕하세요, {name}님! 당신의 나이는 {age}세입니다.\")"
   ]
  }
 ],
 "metadata": {
  "kernelspec": {
   "display_name": "Python 3",
   "language": "python",
   "name": "python3"
  },
  "language_info": {
   "codemirror_mode": {
    "name": "ipython",
    "version": 3
   },
   "file_extension": ".py",
   "mimetype": "text/x-python",
   "name": "python",
   "nbconvert_exporter": "python",
   "pygments_lexer": "ipython3",
   "version": "3.13.0"
  }
 },
 "nbformat": 4,
 "nbformat_minor": 2
}
